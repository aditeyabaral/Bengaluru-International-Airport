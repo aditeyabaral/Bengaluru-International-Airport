{
  "nbformat": 4,
  "nbformat_minor": 0,
  "metadata": {
    "colab": {
      "name": "Week 2",
      "provenance": [],
      "collapsed_sections": [
        "t-3KsMMM3sd3",
        "NI5OsXpx3zuR",
        "TS2JdZze3684",
        "lVYJGuNH7cIy",
        "LdixO6qI4vjv",
        "YBlNPAsU5BVU",
        "zTSnd_gB5pd1",
        "h3Mb9kDh7-1j",
        "hK_DAEvI7v6Z",
        "fvXgwQvuVH_I",
        "E0WrxGtmljMc",
        "IGr0I8sKlnDM",
        "JAOL7DJUsrbO",
        "8nHrzheTCwfB",
        "iTy_5l76V5zv",
        "_LtIkehRZ65s",
        "7OHUFpeXYvMa",
        "zDyT2sfnCjg2",
        "EL0hSEKkKmP7",
        "CSSPdqWvK9iy",
        "oiwPi6KVK2Ra",
        "9H5XNhjtOIjg",
        "aipbSju_OSb6",
        "LfRJvC3fSpTU",
        "oghmz5LVVLe1",
        "O_PSEAzoZxU1",
        "qs3n1c-Uc3Dy"
      ],
      "authorship_tag": "ABX9TyPCccPV390F1j6bSsnaKTF1",
      "include_colab_link": true
    },
    "kernelspec": {
      "name": "python3",
      "display_name": "Python 3"
    },
    "accelerator": "GPU"
  },
  "cells": [
    {
      "cell_type": "markdown",
      "metadata": {
        "id": "view-in-github",
        "colab_type": "text"
      },
      "source": [
        "<a href=\"https://colab.research.google.com/github/aditeyabaral/Bengaluru-International-Airport/blob/master/Weekly%20Assignments%20-%20Answers/Week_2.ipynb\" target=\"_parent\"><img src=\"https://colab.research.google.com/assets/colab-badge.svg\" alt=\"Open In Colab\"/></a>"
      ]
    },
    {
      "cell_type": "markdown",
      "metadata": {
        "id": "s2Y_zMyHCwsW",
        "colab_type": "text"
      },
      "source": [
        "# Importing Libraries and Files"
      ]
    },
    {
      "cell_type": "markdown",
      "metadata": {
        "id": "t-3KsMMM3sd3",
        "colab_type": "text"
      },
      "source": [
        "## Loading files and functions"
      ]
    },
    {
      "cell_type": "code",
      "metadata": {
        "id": "sQRckXk47Z_I",
        "colab_type": "code",
        "outputId": "34182a40-4301-4f65-996c-cf7792fd842a",
        "colab": {
          "base_uri": "https://localhost:8080/",
          "height": 0
        }
      },
      "source": [
        "!unzip News.zip"
      ],
      "execution_count": 1,
      "outputs": [
        {
          "output_type": "stream",
          "text": [
            "Archive:  News.zip\n",
            "   creating: News/\n",
            "  inflating: News/1.txt              \n",
            "  inflating: News/10.txt             \n",
            "  inflating: News/100.txt            \n",
            "  inflating: News/1000.txt           \n",
            "  inflating: News/1001.txt           \n",
            "  inflating: News/1002.txt           \n",
            "  inflating: News/1003.txt           \n",
            "  inflating: News/1004.txt           \n",
            "  inflating: News/1005.txt           \n",
            "  inflating: News/1006.txt           \n",
            "  inflating: News/1007.txt           \n",
            "  inflating: News/1008.txt           \n",
            "  inflating: News/1009.txt           \n",
            "  inflating: News/101.txt            \n",
            "  inflating: News/1010.txt           \n",
            "  inflating: News/1011.txt           \n",
            "  inflating: News/1012.txt           \n",
            "  inflating: News/1013.txt           \n",
            "  inflating: News/1014.txt           \n",
            "  inflating: News/1015.txt           \n",
            "  inflating: News/1016.txt           \n",
            "  inflating: News/1017.txt           \n",
            "  inflating: News/1018.txt           \n",
            "  inflating: News/1019.txt           \n",
            "  inflating: News/102.txt            \n",
            "  inflating: News/1020.txt           \n",
            "  inflating: News/1021.txt           \n",
            "  inflating: News/1022.txt           \n",
            "  inflating: News/1023.txt           \n",
            "  inflating: News/1024.txt           \n",
            "  inflating: News/1025.txt           \n",
            "  inflating: News/1026.txt           \n",
            "  inflating: News/1027.txt           \n",
            "  inflating: News/1028.txt           \n",
            "  inflating: News/1029.txt           \n",
            "  inflating: News/103.txt            \n",
            "  inflating: News/1030.txt           \n",
            "  inflating: News/1031.txt           \n",
            "  inflating: News/1032.txt           \n",
            "  inflating: News/1033.txt           \n",
            "  inflating: News/1034.txt           \n",
            "  inflating: News/1035.txt           \n",
            "  inflating: News/1036.txt           \n",
            "  inflating: News/1037.txt           \n",
            "  inflating: News/1038.txt           \n",
            "  inflating: News/1039.txt           \n",
            "  inflating: News/104.txt            \n",
            "  inflating: News/1040.txt           \n",
            "  inflating: News/1041.txt           \n",
            "  inflating: News/1042.txt           \n",
            "  inflating: News/1043.txt           \n",
            "  inflating: News/1044.txt           \n",
            "  inflating: News/1045.txt           \n",
            "  inflating: News/1046.txt           \n",
            "  inflating: News/1047.txt           \n",
            "  inflating: News/1048.txt           \n",
            "  inflating: News/1049.txt           \n",
            "  inflating: News/105.txt            \n",
            "  inflating: News/1050.txt           \n",
            "  inflating: News/1051.txt           \n",
            "  inflating: News/1052.txt           \n",
            "  inflating: News/1053.txt           \n",
            "  inflating: News/1054.txt           \n",
            "  inflating: News/1055.txt           \n",
            "  inflating: News/1056.txt           \n",
            "  inflating: News/1057.txt           \n",
            "  inflating: News/1058.txt           \n",
            "  inflating: News/1059.txt           \n",
            "  inflating: News/106.txt            \n",
            "  inflating: News/1060.txt           \n",
            "  inflating: News/1061.txt           \n",
            "  inflating: News/1062.txt           \n",
            "  inflating: News/1063.txt           \n",
            "  inflating: News/1064.txt           \n",
            "  inflating: News/1065.txt           \n",
            "  inflating: News/1066.txt           \n",
            "  inflating: News/1067.txt           \n",
            "  inflating: News/1068.txt           \n",
            "  inflating: News/1069.txt           \n",
            "  inflating: News/107.txt            \n",
            "  inflating: News/1070.txt           \n",
            "  inflating: News/1071.txt           \n",
            "  inflating: News/1072.txt           \n",
            "  inflating: News/1073.txt           \n",
            "  inflating: News/1074.txt           \n",
            "  inflating: News/1075.txt           \n",
            "  inflating: News/1076.txt           \n",
            "  inflating: News/1077.txt           \n",
            "  inflating: News/1078.txt           \n",
            "  inflating: News/1079.txt           \n",
            "  inflating: News/108.txt            \n",
            "  inflating: News/1080.txt           \n",
            "  inflating: News/1081.txt           \n",
            "  inflating: News/1082.txt           \n",
            "  inflating: News/1083.txt           \n",
            "  inflating: News/1084.txt           \n",
            "  inflating: News/1085.txt           \n",
            "  inflating: News/1086.txt           \n",
            "  inflating: News/1087.txt           \n",
            "  inflating: News/1088.txt           \n",
            "  inflating: News/1089.txt           \n",
            "  inflating: News/109.txt            \n",
            "  inflating: News/1090.txt           \n",
            "  inflating: News/1091.txt           \n",
            "  inflating: News/1092.txt           \n",
            "  inflating: News/1093.txt           \n",
            "  inflating: News/1094.txt           \n",
            "  inflating: News/1095.txt           \n",
            "  inflating: News/1096.txt           \n",
            "  inflating: News/1097.txt           \n",
            "  inflating: News/1098.txt           \n",
            "  inflating: News/1099.txt           \n",
            "  inflating: News/11.txt             \n",
            "  inflating: News/110.txt            \n",
            "  inflating: News/1100.txt           \n",
            "  inflating: News/1101.txt           \n",
            "  inflating: News/1102.txt           \n",
            "  inflating: News/1103.txt           \n",
            "  inflating: News/1104.txt           \n",
            "  inflating: News/1105.txt           \n",
            "  inflating: News/1106.txt           \n",
            "  inflating: News/1107.txt           \n",
            "  inflating: News/1108.txt           \n",
            "  inflating: News/1109.txt           \n",
            "  inflating: News/111.txt            \n",
            "  inflating: News/1110.txt           \n",
            "  inflating: News/1111.txt           \n",
            "  inflating: News/1112.txt           \n",
            "  inflating: News/1113.txt           \n",
            "  inflating: News/1114.txt           \n",
            "  inflating: News/1115.txt           \n",
            "  inflating: News/1116.txt           \n",
            "  inflating: News/1117.txt           \n",
            "  inflating: News/1118.txt           \n",
            "  inflating: News/1119.txt           \n",
            "  inflating: News/112.txt            \n",
            "  inflating: News/1120.txt           \n",
            "  inflating: News/1121.txt           \n",
            "  inflating: News/1122.txt           \n",
            "  inflating: News/1123.txt           \n",
            "  inflating: News/1124.txt           \n",
            "  inflating: News/1125.txt           \n",
            "  inflating: News/1126.txt           \n",
            "  inflating: News/1127.txt           \n",
            "  inflating: News/1128.txt           \n",
            "  inflating: News/1129.txt           \n",
            "  inflating: News/113.txt            \n",
            "  inflating: News/1130.txt           \n",
            "  inflating: News/1131.txt           \n",
            "  inflating: News/1132.txt           \n",
            "  inflating: News/1133.txt           \n",
            "  inflating: News/1134.txt           \n",
            "  inflating: News/1135.txt           \n",
            "  inflating: News/1136.txt           \n",
            "  inflating: News/1137.txt           \n",
            "  inflating: News/1138.txt           \n",
            "  inflating: News/1139.txt           \n",
            "  inflating: News/114.txt            \n",
            "  inflating: News/1140.txt           \n",
            "  inflating: News/1141.txt           \n",
            "  inflating: News/1142.txt           \n",
            "  inflating: News/1143.txt           \n",
            "  inflating: News/1144.txt           \n",
            "  inflating: News/1145.txt           \n",
            "  inflating: News/1146.txt           \n",
            "  inflating: News/1147.txt           \n",
            "  inflating: News/1148.txt           \n",
            "  inflating: News/1149.txt           \n",
            "  inflating: News/115.txt            \n",
            "  inflating: News/1150.txt           \n",
            "  inflating: News/1151.txt           \n",
            "  inflating: News/1152.txt           \n",
            "  inflating: News/1153.txt           \n",
            "  inflating: News/1154.txt           \n",
            "  inflating: News/1155.txt           \n",
            "  inflating: News/1156.txt           \n",
            "  inflating: News/1157.txt           \n",
            "  inflating: News/1158.txt           \n",
            "  inflating: News/1159.txt           \n",
            "  inflating: News/116.txt            \n",
            "  inflating: News/1160.txt           \n",
            "  inflating: News/1161.txt           \n",
            "  inflating: News/1162.txt           \n",
            "  inflating: News/1163.txt           \n",
            "  inflating: News/1164.txt           \n",
            "  inflating: News/1165.txt           \n",
            "  inflating: News/1166.txt           \n",
            "  inflating: News/1167.txt           \n",
            "  inflating: News/1168.txt           \n",
            "  inflating: News/1169.txt           \n",
            "  inflating: News/117.txt            \n",
            "  inflating: News/1170.txt           \n",
            "  inflating: News/1171.txt           \n",
            "  inflating: News/1172.txt           \n",
            "  inflating: News/1173.txt           \n",
            "  inflating: News/1174.txt           \n",
            "  inflating: News/1175.txt           \n",
            "  inflating: News/1176.txt           \n",
            "  inflating: News/1177.txt           \n",
            "  inflating: News/1178.txt           \n",
            "  inflating: News/1179.txt           \n",
            "  inflating: News/118.txt            \n",
            "  inflating: News/1180.txt           \n",
            "  inflating: News/1181.txt           \n",
            "  inflating: News/1182.txt           \n",
            "  inflating: News/1183.txt           \n",
            "  inflating: News/1184.txt           \n",
            "  inflating: News/1185.txt           \n",
            "  inflating: News/1186.txt           \n",
            "  inflating: News/1187.txt           \n",
            "  inflating: News/1188.txt           \n",
            "  inflating: News/1189.txt           \n",
            "  inflating: News/119.txt            \n",
            "  inflating: News/1190.txt           \n",
            "  inflating: News/1191.txt           \n",
            "  inflating: News/1192.txt           \n",
            "  inflating: News/1193.txt           \n",
            "  inflating: News/1194.txt           \n",
            "  inflating: News/1195.txt           \n",
            "  inflating: News/1196.txt           \n",
            "  inflating: News/1197.txt           \n",
            "  inflating: News/1198.txt           \n",
            "  inflating: News/1199.txt           \n",
            "  inflating: News/12.txt             \n",
            "  inflating: News/120.txt            \n",
            "  inflating: News/1200.txt           \n",
            "  inflating: News/1201.txt           \n",
            "  inflating: News/1202.txt           \n",
            "  inflating: News/1203.txt           \n",
            "  inflating: News/1204.txt           \n",
            "  inflating: News/1205.txt           \n",
            "  inflating: News/1206.txt           \n",
            "  inflating: News/1207.txt           \n",
            "  inflating: News/1208.txt           \n",
            "  inflating: News/1209.txt           \n",
            "  inflating: News/121.txt            \n",
            "  inflating: News/1210.txt           \n",
            "  inflating: News/1211.txt           \n",
            "  inflating: News/1212.txt           \n",
            "  inflating: News/1213.txt           \n",
            "  inflating: News/1214.txt           \n",
            "  inflating: News/1215.txt           \n",
            "  inflating: News/1216.txt           \n",
            "  inflating: News/1217.txt           \n",
            "  inflating: News/1218.txt           \n",
            "  inflating: News/1219.txt           \n",
            "  inflating: News/122.txt            \n",
            "  inflating: News/1220.txt           \n",
            "  inflating: News/1221.txt           \n",
            "  inflating: News/1222.txt           \n",
            "  inflating: News/1223.txt           \n",
            "  inflating: News/1224.txt           \n",
            "  inflating: News/1225.txt           \n",
            "  inflating: News/1226.txt           \n",
            "  inflating: News/1227.txt           \n",
            "  inflating: News/1228.txt           \n",
            "  inflating: News/1229.txt           \n",
            "  inflating: News/123.txt            \n",
            "  inflating: News/1230.txt           \n",
            "  inflating: News/1231.txt           \n",
            "  inflating: News/1232.txt           \n",
            "  inflating: News/1233.txt           \n",
            "  inflating: News/1234.txt           \n",
            "  inflating: News/1235.txt           \n",
            "  inflating: News/1236.txt           \n",
            "  inflating: News/1237.txt           \n",
            "  inflating: News/1238.txt           \n",
            "  inflating: News/1239.txt           \n",
            "  inflating: News/124.txt            \n",
            "  inflating: News/1240.txt           \n",
            "  inflating: News/1241.txt           \n",
            "  inflating: News/1242.txt           \n",
            "  inflating: News/1243.txt           \n",
            "  inflating: News/1244.txt           \n",
            "  inflating: News/1245.txt           \n",
            "  inflating: News/1246.txt           \n",
            "  inflating: News/1247.txt           \n",
            "  inflating: News/1248.txt           \n",
            "  inflating: News/1249.txt           \n",
            "  inflating: News/125.txt            \n",
            "  inflating: News/1250.txt           \n",
            "  inflating: News/1251.txt           \n",
            "  inflating: News/1252.txt           \n",
            "  inflating: News/1253.txt           \n",
            "  inflating: News/1254.txt           \n",
            "  inflating: News/1255.txt           \n",
            "  inflating: News/1256.txt           \n",
            "  inflating: News/1257.txt           \n",
            "  inflating: News/1258.txt           \n",
            "  inflating: News/1259.txt           \n",
            "  inflating: News/126.txt            \n",
            "  inflating: News/1260.txt           \n",
            "  inflating: News/1261.txt           \n",
            "  inflating: News/1262.txt           \n",
            "  inflating: News/1263.txt           \n",
            "  inflating: News/1264.txt           \n",
            "  inflating: News/1265.txt           \n",
            "  inflating: News/1266.txt           \n",
            "  inflating: News/1267.txt           \n",
            "  inflating: News/1268.txt           \n",
            "  inflating: News/1269.txt           \n",
            "  inflating: News/127.txt            \n",
            "  inflating: News/1270.txt           \n",
            "  inflating: News/1271.txt           \n",
            "  inflating: News/1272.txt           \n",
            "  inflating: News/1273.txt           \n",
            "  inflating: News/1274.txt           \n",
            "  inflating: News/1275.txt           \n",
            "  inflating: News/1276.txt           \n",
            "  inflating: News/1277.txt           \n",
            "  inflating: News/1278.txt           \n",
            "  inflating: News/1279.txt           \n",
            "  inflating: News/128.txt            \n",
            "  inflating: News/1280.txt           \n",
            "  inflating: News/1281.txt           \n",
            "  inflating: News/1282.txt           \n",
            "  inflating: News/1283.txt           \n",
            "  inflating: News/1284.txt           \n",
            "  inflating: News/1285.txt           \n",
            "  inflating: News/1286.txt           \n",
            "  inflating: News/1287.txt           \n",
            "  inflating: News/1288.txt           \n",
            "  inflating: News/1289.txt           \n",
            "  inflating: News/129.txt            \n",
            "  inflating: News/1290.txt           \n",
            "  inflating: News/1291.txt           \n",
            "  inflating: News/1292.txt           \n",
            "  inflating: News/1293.txt           \n",
            "  inflating: News/1294.txt           \n",
            "  inflating: News/1295.txt           \n",
            "  inflating: News/1296.txt           \n",
            "  inflating: News/1297.txt           \n",
            "  inflating: News/1298.txt           \n",
            "  inflating: News/1299.txt           \n",
            "  inflating: News/13.txt             \n",
            "  inflating: News/130.txt            \n",
            "  inflating: News/1300.txt           \n",
            "  inflating: News/1301.txt           \n",
            "  inflating: News/1302.txt           \n",
            "  inflating: News/1303.txt           \n",
            "  inflating: News/1304.txt           \n",
            "  inflating: News/1305.txt           \n",
            "  inflating: News/1306.txt           \n",
            "  inflating: News/1307.txt           \n",
            "  inflating: News/1308.txt           \n",
            "  inflating: News/1309.txt           \n",
            "  inflating: News/131.txt            \n",
            "  inflating: News/1310.txt           \n",
            "  inflating: News/1311.txt           \n",
            "  inflating: News/1312.txt           \n",
            "  inflating: News/1313.txt           \n",
            "  inflating: News/1314.txt           \n",
            "  inflating: News/1315.txt           \n",
            "  inflating: News/1316.txt           \n",
            "  inflating: News/1317.txt           \n",
            "  inflating: News/1318.txt           \n",
            "  inflating: News/1319.txt           \n",
            "  inflating: News/132.txt            \n",
            "  inflating: News/1320.txt           \n",
            "  inflating: News/1321.txt           \n",
            "  inflating: News/1322.txt           \n",
            "  inflating: News/1323.txt           \n",
            "  inflating: News/1324.txt           \n",
            "  inflating: News/1325.txt           \n",
            "  inflating: News/1326.txt           \n",
            "  inflating: News/1327.txt           \n",
            "  inflating: News/1328.txt           \n",
            "  inflating: News/1329.txt           \n",
            "  inflating: News/133.txt            \n",
            "  inflating: News/1330.txt           \n",
            "  inflating: News/1331.txt           \n",
            "  inflating: News/1332.txt           \n",
            "  inflating: News/1333.txt           \n",
            "  inflating: News/1334.txt           \n",
            "  inflating: News/1335.txt           \n",
            "  inflating: News/1336.txt           \n",
            "  inflating: News/1337.txt           \n",
            "  inflating: News/1338.txt           \n",
            "  inflating: News/1339.txt           \n",
            "  inflating: News/134.txt            \n",
            "  inflating: News/1340.txt           \n",
            "  inflating: News/1341.txt           \n",
            "  inflating: News/1342.txt           \n",
            "  inflating: News/1343.txt           \n",
            "  inflating: News/1344.txt           \n",
            "  inflating: News/1345.txt           \n",
            "  inflating: News/1346.txt           \n",
            "  inflating: News/1347.txt           \n",
            "  inflating: News/1348.txt           \n",
            "  inflating: News/1349.txt           \n",
            "  inflating: News/135.txt            \n",
            "  inflating: News/1350.txt           \n",
            "  inflating: News/1351.txt           \n",
            "  inflating: News/1352.txt           \n",
            "  inflating: News/1353.txt           \n",
            "  inflating: News/1354.txt           \n",
            "  inflating: News/1355.txt           \n",
            "  inflating: News/1356.txt           \n",
            "  inflating: News/1357.txt           \n",
            "  inflating: News/1358.txt           \n",
            "  inflating: News/1359.txt           \n",
            "  inflating: News/136.txt            \n",
            "  inflating: News/1360.txt           \n",
            "  inflating: News/1361.txt           \n",
            "  inflating: News/1362.txt           \n",
            "  inflating: News/1363.txt           \n",
            "  inflating: News/1364.txt           \n",
            "  inflating: News/1365.txt           \n",
            "  inflating: News/1366.txt           \n",
            "  inflating: News/1367.txt           \n",
            "  inflating: News/1368.txt           \n",
            "  inflating: News/1369.txt           \n",
            "  inflating: News/137.txt            \n",
            "  inflating: News/1370.txt           \n",
            "  inflating: News/1371.txt           \n",
            "  inflating: News/1372.txt           \n",
            "  inflating: News/1373.txt           \n",
            "  inflating: News/1374.txt           \n",
            "  inflating: News/1375.txt           \n",
            "  inflating: News/1376.txt           \n",
            "  inflating: News/1377.txt           \n",
            "  inflating: News/1378.txt           \n",
            "  inflating: News/1379.txt           \n",
            "  inflating: News/138.txt            \n",
            "  inflating: News/1380.txt           \n",
            "  inflating: News/1381.txt           \n",
            "  inflating: News/1382.txt           \n",
            "  inflating: News/1383.txt           \n",
            "  inflating: News/1384.txt           \n",
            "  inflating: News/1385.txt           \n",
            "  inflating: News/1386.txt           \n",
            "  inflating: News/1387.txt           \n",
            "  inflating: News/1388.txt           \n",
            "  inflating: News/1389.txt           \n",
            "  inflating: News/139.txt            \n",
            "  inflating: News/1390.txt           \n",
            "  inflating: News/1391.txt           \n",
            "  inflating: News/1392.txt           \n",
            "  inflating: News/1393.txt           \n",
            "  inflating: News/1394.txt           \n",
            "  inflating: News/1395.txt           \n",
            "  inflating: News/1396.txt           \n",
            "  inflating: News/1397.txt           \n",
            "  inflating: News/1398.txt           \n",
            "  inflating: News/1399.txt           \n",
            "  inflating: News/14.txt             \n",
            "  inflating: News/140.txt            \n",
            "  inflating: News/1400.txt           \n",
            "  inflating: News/1401.txt           \n",
            "  inflating: News/1402.txt           \n",
            "  inflating: News/1403.txt           \n",
            "  inflating: News/1404.txt           \n",
            "  inflating: News/1405.txt           \n",
            "  inflating: News/1406.txt           \n",
            "  inflating: News/1407.txt           \n",
            "  inflating: News/1408.txt           \n",
            "  inflating: News/1409.txt           \n",
            "  inflating: News/141.txt            \n",
            "  inflating: News/1410.txt           \n",
            "  inflating: News/1411.txt           \n",
            "  inflating: News/1412.txt           \n",
            "  inflating: News/1413.txt           \n",
            "  inflating: News/1414.txt           \n",
            "  inflating: News/1415.txt           \n",
            "  inflating: News/1416.txt           \n",
            "  inflating: News/1417.txt           \n",
            "  inflating: News/1418.txt           \n",
            "  inflating: News/1419.txt           \n",
            "  inflating: News/142.txt            \n",
            "  inflating: News/1420.txt           \n",
            "  inflating: News/1421.txt           \n",
            "  inflating: News/1422.txt           \n",
            "  inflating: News/1423.txt           \n",
            "  inflating: News/1424.txt           \n",
            "  inflating: News/1425.txt           \n",
            "  inflating: News/1426.txt           \n",
            "  inflating: News/1427.txt           \n",
            "  inflating: News/1428.txt           \n",
            "  inflating: News/1429.txt           \n",
            "  inflating: News/143.txt            \n",
            "  inflating: News/1430.txt           \n",
            "  inflating: News/1431.txt           \n",
            "  inflating: News/1432.txt           \n",
            "  inflating: News/1433.txt           \n",
            "  inflating: News/1434.txt           \n",
            "  inflating: News/1435.txt           \n",
            "  inflating: News/1436.txt           \n",
            "  inflating: News/1437.txt           \n",
            "  inflating: News/1438.txt           \n",
            "  inflating: News/1439.txt           \n",
            "  inflating: News/144.txt            \n",
            "  inflating: News/1440.txt           \n",
            "  inflating: News/1441.txt           \n",
            "  inflating: News/1442.txt           \n",
            "  inflating: News/1443.txt           \n",
            "  inflating: News/1444.txt           \n",
            "  inflating: News/1445.txt           \n",
            "  inflating: News/1446.txt           \n",
            "  inflating: News/1447.txt           \n",
            "  inflating: News/1448.txt           \n",
            "  inflating: News/1449.txt           \n",
            "  inflating: News/145.txt            \n",
            "  inflating: News/1450.txt           \n",
            "  inflating: News/1451.txt           \n",
            "  inflating: News/1452.txt           \n",
            "  inflating: News/1453.txt           \n",
            "  inflating: News/1454.txt           \n",
            "  inflating: News/1455.txt           \n",
            "  inflating: News/1456.txt           \n",
            "  inflating: News/1457.txt           \n",
            "  inflating: News/1458.txt           \n",
            "  inflating: News/1459.txt           \n",
            "  inflating: News/146.txt            \n",
            "  inflating: News/1460.txt           \n",
            "  inflating: News/1461.txt           \n",
            "  inflating: News/1462.txt           \n",
            "  inflating: News/1463.txt           \n",
            "  inflating: News/1464.txt           \n",
            "  inflating: News/1465.txt           \n",
            "  inflating: News/1466.txt           \n",
            "  inflating: News/1467.txt           \n",
            "  inflating: News/1468.txt           \n",
            "  inflating: News/1469.txt           \n",
            "  inflating: News/147.txt            \n",
            "  inflating: News/1470.txt           \n",
            "  inflating: News/1471.txt           \n",
            "  inflating: News/1472.txt           \n",
            "  inflating: News/1473.txt           \n",
            "  inflating: News/1474.txt           \n",
            "  inflating: News/1475.txt           \n",
            "  inflating: News/1476.txt           \n",
            "  inflating: News/1477.txt           \n",
            "  inflating: News/1478.txt           \n",
            "  inflating: News/1479.txt           \n",
            "  inflating: News/148.txt            \n",
            "  inflating: News/1480.txt           \n",
            "  inflating: News/1481.txt           \n",
            "  inflating: News/1482.txt           \n",
            "  inflating: News/1483.txt           \n",
            "  inflating: News/1484.txt           \n",
            "  inflating: News/1485.txt           \n",
            "  inflating: News/1486.txt           \n",
            "  inflating: News/1487.txt           \n",
            "  inflating: News/1488.txt           \n",
            "  inflating: News/1489.txt           \n",
            "  inflating: News/149.txt            \n",
            "  inflating: News/1490.txt           \n",
            "  inflating: News/1491.txt           \n",
            "  inflating: News/1492.txt           \n",
            "  inflating: News/1493.txt           \n",
            "  inflating: News/1494.txt           \n",
            "  inflating: News/1495.txt           \n",
            "  inflating: News/1496.txt           \n",
            "  inflating: News/1497.txt           \n",
            "  inflating: News/1498.txt           \n",
            "  inflating: News/1499.txt           \n",
            "  inflating: News/15.txt             \n",
            "  inflating: News/150.txt            \n",
            "  inflating: News/1500.txt           \n",
            "  inflating: News/1501.txt           \n",
            "  inflating: News/1502.txt           \n",
            "  inflating: News/1503.txt           \n",
            "  inflating: News/1504.txt           \n",
            "  inflating: News/1505.txt           \n",
            "  inflating: News/1506.txt           \n",
            "  inflating: News/1507.txt           \n",
            "  inflating: News/1508.txt           \n",
            "  inflating: News/1509.txt           \n",
            "  inflating: News/151.txt            \n",
            "  inflating: News/1510.txt           \n",
            "  inflating: News/1511.txt           \n",
            "  inflating: News/1512.txt           \n",
            "  inflating: News/1513.txt           \n",
            "  inflating: News/1514.txt           \n",
            "  inflating: News/1515.txt           \n",
            "  inflating: News/1516.txt           \n",
            "  inflating: News/1517.txt           \n",
            "  inflating: News/1518.txt           \n",
            "  inflating: News/1519.txt           \n",
            "  inflating: News/152.txt            \n",
            "  inflating: News/1520.txt           \n",
            "  inflating: News/1521.txt           \n",
            "  inflating: News/1522.txt           \n",
            "  inflating: News/1523.txt           \n",
            "  inflating: News/1524.txt           \n",
            "  inflating: News/1525.txt           \n",
            "  inflating: News/1526.txt           \n",
            "  inflating: News/1527.txt           \n",
            "  inflating: News/1528.txt           \n",
            "  inflating: News/1529.txt           \n",
            "  inflating: News/153.txt            \n",
            "  inflating: News/1530.txt           \n",
            "  inflating: News/1531.txt           \n",
            "  inflating: News/1532.txt           \n",
            "  inflating: News/1533.txt           \n",
            "  inflating: News/1534.txt           \n",
            "  inflating: News/1535.txt           \n",
            "  inflating: News/1536.txt           \n",
            "  inflating: News/1537.txt           \n",
            "  inflating: News/1538.txt           \n",
            "  inflating: News/1539.txt           \n",
            "  inflating: News/154.txt            \n",
            "  inflating: News/1540.txt           \n",
            "  inflating: News/1541.txt           \n",
            "  inflating: News/1542.txt           \n",
            "  inflating: News/1543.txt           \n",
            "  inflating: News/1544.txt           \n",
            "  inflating: News/1545.txt           \n",
            "  inflating: News/1546.txt           \n",
            "  inflating: News/1547.txt           \n",
            "  inflating: News/1548.txt           \n",
            "  inflating: News/1549.txt           \n",
            "  inflating: News/155.txt            \n",
            "  inflating: News/1550.txt           \n",
            "  inflating: News/1551.txt           \n",
            "  inflating: News/1552.txt           \n",
            "  inflating: News/1553.txt           \n",
            "  inflating: News/1554.txt           \n",
            "  inflating: News/1555.txt           \n",
            "  inflating: News/1556.txt           \n",
            "  inflating: News/1557.txt           \n",
            "  inflating: News/1558.txt           \n",
            "  inflating: News/1559.txt           \n",
            "  inflating: News/156.txt            \n",
            "  inflating: News/1560.txt           \n",
            "  inflating: News/1561.txt           \n",
            "  inflating: News/1562.txt           \n",
            "  inflating: News/1563.txt           \n",
            "  inflating: News/1564.txt           \n",
            "  inflating: News/1565.txt           \n",
            "  inflating: News/1566.txt           \n",
            "  inflating: News/1567.txt           \n",
            "  inflating: News/1568.txt           \n",
            "  inflating: News/1569.txt           \n",
            "  inflating: News/157.txt            \n",
            "  inflating: News/1570.txt           \n",
            "  inflating: News/1571.txt           \n",
            "  inflating: News/1572.txt           \n",
            "  inflating: News/1573.txt           \n",
            "  inflating: News/1574.txt           \n",
            "  inflating: News/1575.txt           \n",
            "  inflating: News/1576.txt           \n",
            "  inflating: News/1577.txt           \n",
            "  inflating: News/1578.txt           \n",
            "  inflating: News/1579.txt           \n",
            "  inflating: News/158.txt            \n",
            "  inflating: News/1580.txt           \n",
            "  inflating: News/1581.txt           \n",
            "  inflating: News/1582.txt           \n",
            "  inflating: News/1583.txt           \n",
            "  inflating: News/1584.txt           \n",
            "  inflating: News/1585.txt           \n",
            "  inflating: News/1586.txt           \n",
            "  inflating: News/1587.txt           \n",
            "  inflating: News/1588.txt           \n",
            "  inflating: News/1589.txt           \n",
            "  inflating: News/159.txt            \n",
            "  inflating: News/1590.txt           \n",
            "  inflating: News/1591.txt           \n",
            "  inflating: News/1592.txt           \n",
            "  inflating: News/1593.txt           \n",
            "  inflating: News/1594.txt           \n",
            "  inflating: News/1595.txt           \n",
            "  inflating: News/1596.txt           \n",
            "  inflating: News/1597.txt           \n",
            "  inflating: News/1598.txt           \n",
            "  inflating: News/1599.txt           \n",
            "  inflating: News/16.txt             \n",
            "  inflating: News/160.txt            \n",
            "  inflating: News/1600.txt           \n",
            "  inflating: News/1601.txt           \n",
            "  inflating: News/1602.txt           \n",
            "  inflating: News/1603.txt           \n",
            "  inflating: News/1604.txt           \n",
            "  inflating: News/1605.txt           \n",
            "  inflating: News/1606.txt           \n",
            "  inflating: News/1607.txt           \n",
            "  inflating: News/1608.txt           \n",
            "  inflating: News/1609.txt           \n",
            "  inflating: News/161.txt            \n",
            "  inflating: News/1610.txt           \n",
            "  inflating: News/1611.txt           \n",
            "  inflating: News/1612.txt           \n",
            "  inflating: News/1613.txt           \n",
            "  inflating: News/1614.txt           \n",
            "  inflating: News/1615.txt           \n",
            "  inflating: News/1616.txt           \n",
            "  inflating: News/1617.txt           \n",
            "  inflating: News/1618.txt           \n",
            "  inflating: News/1619.txt           \n",
            "  inflating: News/162.txt            \n",
            "  inflating: News/1620.txt           \n",
            "  inflating: News/1621.txt           \n",
            "  inflating: News/1622.txt           \n",
            "  inflating: News/1623.txt           \n",
            "  inflating: News/1624.txt           \n",
            "  inflating: News/1625.txt           \n",
            "  inflating: News/1626.txt           \n",
            "  inflating: News/1627.txt           \n",
            "  inflating: News/1628.txt           \n",
            "  inflating: News/1629.txt           \n",
            "  inflating: News/163.txt            \n",
            "  inflating: News/1630.txt           \n",
            "  inflating: News/1631.txt           \n",
            "  inflating: News/1632.txt           \n",
            "  inflating: News/1633.txt           \n",
            "  inflating: News/1634.txt           \n",
            "  inflating: News/1635.txt           \n",
            "  inflating: News/1636.txt           \n",
            "  inflating: News/1637.txt           \n",
            "  inflating: News/1638.txt           \n",
            "  inflating: News/1639.txt           \n",
            "  inflating: News/164.txt            \n",
            "  inflating: News/1640.txt           \n",
            "  inflating: News/1641.txt           \n",
            "  inflating: News/1642.txt           \n",
            "  inflating: News/1643.txt           \n",
            "  inflating: News/1644.txt           \n",
            "  inflating: News/1645.txt           \n",
            "  inflating: News/1646.txt           \n",
            "  inflating: News/1647.txt           \n",
            "  inflating: News/1648.txt           \n",
            "  inflating: News/1649.txt           \n",
            "  inflating: News/165.txt            \n",
            "  inflating: News/1650.txt           \n",
            "  inflating: News/1651.txt           \n",
            "  inflating: News/1652.txt           \n",
            "  inflating: News/1653.txt           \n",
            "  inflating: News/1654.txt           \n",
            "  inflating: News/1655.txt           \n",
            "  inflating: News/1656.txt           \n",
            "  inflating: News/1657.txt           \n",
            "  inflating: News/1658.txt           \n",
            "  inflating: News/1659.txt           \n",
            "  inflating: News/166.txt            \n",
            "  inflating: News/1660.txt           \n",
            "  inflating: News/1661.txt           \n",
            "  inflating: News/1662.txt           \n",
            "  inflating: News/1663.txt           \n",
            "  inflating: News/1664.txt           \n",
            "  inflating: News/1665.txt           \n",
            "  inflating: News/1666.txt           \n",
            "  inflating: News/1667.txt           \n",
            "  inflating: News/1668.txt           \n",
            "  inflating: News/1669.txt           \n",
            "  inflating: News/167.txt            \n",
            "  inflating: News/1670.txt           \n",
            "  inflating: News/1671.txt           \n",
            "  inflating: News/1672.txt           \n",
            "  inflating: News/1673.txt           \n",
            "  inflating: News/1674.txt           \n",
            "  inflating: News/1675.txt           \n",
            "  inflating: News/1676.txt           \n",
            "  inflating: News/1677.txt           \n",
            "  inflating: News/1678.txt           \n",
            "  inflating: News/1679.txt           \n",
            "  inflating: News/168.txt            \n",
            "  inflating: News/1680.txt           \n",
            "  inflating: News/1681.txt           \n",
            "  inflating: News/1682.txt           \n",
            "  inflating: News/1683.txt           \n",
            "  inflating: News/1684.txt           \n",
            "  inflating: News/1685.txt           \n",
            "  inflating: News/1686.txt           \n",
            "  inflating: News/1687.txt           \n",
            "  inflating: News/1688.txt           \n",
            "  inflating: News/1689.txt           \n",
            "  inflating: News/169.txt            \n",
            "  inflating: News/1690.txt           \n",
            "  inflating: News/1691.txt           \n",
            "  inflating: News/1692.txt           \n",
            "  inflating: News/1693.txt           \n",
            "  inflating: News/1694.txt           \n",
            "  inflating: News/1695.txt           \n",
            "  inflating: News/1696.txt           \n",
            "  inflating: News/1697.txt           \n",
            "  inflating: News/1698.txt           \n",
            "  inflating: News/1699.txt           \n",
            "  inflating: News/17.txt             \n",
            "  inflating: News/170.txt            \n",
            "  inflating: News/1700.txt           \n",
            "  inflating: News/1701.txt           \n",
            "  inflating: News/1702.txt           \n",
            "  inflating: News/1703.txt           \n",
            "  inflating: News/1704.txt           \n",
            "  inflating: News/1705.txt           \n",
            "  inflating: News/1706.txt           \n",
            "  inflating: News/1707.txt           \n",
            "  inflating: News/1708.txt           \n",
            "  inflating: News/1709.txt           \n",
            "  inflating: News/171.txt            \n",
            "  inflating: News/1710.txt           \n",
            "  inflating: News/1711.txt           \n",
            "  inflating: News/1712.txt           \n",
            "  inflating: News/1713.txt           \n",
            "  inflating: News/1714.txt           \n",
            "  inflating: News/1715.txt           \n",
            "  inflating: News/1716.txt           \n",
            "  inflating: News/1717.txt           \n",
            "  inflating: News/1718.txt           \n",
            "  inflating: News/1719.txt           \n",
            "  inflating: News/172.txt            \n",
            "  inflating: News/1720.txt           \n",
            "  inflating: News/1721.txt           \n",
            "  inflating: News/1722.txt           \n",
            "  inflating: News/1723.txt           \n",
            "  inflating: News/1724.txt           \n",
            "  inflating: News/1725.txt           \n",
            "  inflating: News/1726.txt           \n",
            "  inflating: News/1727.txt           \n",
            "  inflating: News/1728.txt           \n",
            "  inflating: News/1729.txt           \n",
            "  inflating: News/173.txt            \n",
            "  inflating: News/1730.txt           \n",
            "  inflating: News/1731.txt           \n",
            "  inflating: News/1732.txt           \n",
            "  inflating: News/1733.txt           \n",
            "  inflating: News/1734.txt           \n",
            "  inflating: News/1735.txt           \n",
            "  inflating: News/1736.txt           \n",
            "  inflating: News/1737.txt           \n",
            "  inflating: News/1738.txt           \n",
            "  inflating: News/1739.txt           \n",
            "  inflating: News/174.txt            \n",
            "  inflating: News/1740.txt           \n",
            "  inflating: News/1741.txt           \n",
            "  inflating: News/1742.txt           \n",
            "  inflating: News/1743.txt           \n",
            "  inflating: News/1744.txt           \n",
            "  inflating: News/1745.txt           \n",
            "  inflating: News/1746.txt           \n",
            "  inflating: News/1747.txt           \n",
            "  inflating: News/1748.txt           \n",
            "  inflating: News/1749.txt           \n",
            "  inflating: News/175.txt            \n",
            "  inflating: News/1750.txt           \n",
            "  inflating: News/1751.txt           \n",
            "  inflating: News/1752.txt           \n",
            "  inflating: News/1753.txt           \n",
            "  inflating: News/1754.txt           \n",
            "  inflating: News/1755.txt           \n",
            "  inflating: News/1756.txt           \n",
            "  inflating: News/1757.txt           \n",
            "  inflating: News/1758.txt           \n",
            "  inflating: News/1759.txt           \n",
            "  inflating: News/176.txt            \n",
            "  inflating: News/1760.txt           \n",
            "  inflating: News/1761.txt           \n",
            "  inflating: News/1762.txt           \n",
            "  inflating: News/1763.txt           \n",
            "  inflating: News/1764.txt           \n",
            "  inflating: News/1765.txt           \n",
            "  inflating: News/1766.txt           \n",
            "  inflating: News/1767.txt           \n",
            "  inflating: News/1768.txt           \n",
            "  inflating: News/1769.txt           \n",
            "  inflating: News/177.txt            \n",
            "  inflating: News/1770.txt           \n",
            "  inflating: News/1771.txt           \n",
            "  inflating: News/1772.txt           \n",
            "  inflating: News/1773.txt           \n",
            "  inflating: News/1774.txt           \n",
            "  inflating: News/1775.txt           \n",
            "  inflating: News/1776.txt           \n",
            "  inflating: News/1777.txt           \n",
            "  inflating: News/1778.txt           \n",
            "  inflating: News/1779.txt           \n",
            "  inflating: News/178.txt            \n",
            "  inflating: News/1780.txt           \n",
            "  inflating: News/1781.txt           \n",
            "  inflating: News/1782.txt           \n",
            "  inflating: News/1783.txt           \n",
            "  inflating: News/1784.txt           \n",
            "  inflating: News/1785.txt           \n",
            "  inflating: News/1786.txt           \n",
            "  inflating: News/1787.txt           \n",
            "  inflating: News/1788.txt           \n",
            "  inflating: News/1789.txt           \n",
            "  inflating: News/179.txt            \n",
            "  inflating: News/1790.txt           \n",
            "  inflating: News/1791.txt           \n",
            "  inflating: News/1792.txt           \n",
            "  inflating: News/1793.txt           \n",
            "  inflating: News/1794.txt           \n",
            "  inflating: News/1795.txt           \n",
            "  inflating: News/1796.txt           \n",
            "  inflating: News/1797.txt           \n",
            "  inflating: News/1798.txt           \n",
            "  inflating: News/1799.txt           \n",
            "  inflating: News/18.txt             \n",
            "  inflating: News/180.txt            \n",
            "  inflating: News/1800.txt           \n",
            "  inflating: News/1801.txt           \n",
            "  inflating: News/1802.txt           \n",
            "  inflating: News/1803.txt           \n",
            "  inflating: News/1804.txt           \n",
            "  inflating: News/1805.txt           \n",
            "  inflating: News/1806.txt           \n",
            "  inflating: News/1807.txt           \n",
            "  inflating: News/1808.txt           \n",
            "  inflating: News/1809.txt           \n",
            "  inflating: News/181.txt            \n",
            "  inflating: News/1810.txt           \n",
            "  inflating: News/1811.txt           \n",
            "  inflating: News/1812.txt           \n",
            "  inflating: News/1813.txt           \n",
            "  inflating: News/1814.txt           \n",
            "  inflating: News/1815.txt           \n",
            "  inflating: News/1816.txt           \n",
            "  inflating: News/1817.txt           \n",
            "  inflating: News/1818.txt           \n",
            "  inflating: News/1819.txt           \n",
            "  inflating: News/182.txt            \n",
            "  inflating: News/1820.txt           \n",
            "  inflating: News/1821.txt           \n",
            "  inflating: News/1822.txt           \n",
            "  inflating: News/1823.txt           \n",
            "  inflating: News/1824.txt           \n",
            "  inflating: News/1825.txt           \n",
            "  inflating: News/1826.txt           \n",
            "  inflating: News/1827.txt           \n",
            "  inflating: News/1828.txt           \n",
            "  inflating: News/1829.txt           \n",
            "  inflating: News/183.txt            \n",
            "  inflating: News/1830.txt           \n",
            "  inflating: News/1831.txt           \n",
            "  inflating: News/1832.txt           \n",
            "  inflating: News/1833.txt           \n",
            "  inflating: News/1834.txt           \n",
            "  inflating: News/1835.txt           \n",
            "  inflating: News/1836.txt           \n",
            "  inflating: News/1837.txt           \n",
            "  inflating: News/1838.txt           \n",
            "  inflating: News/1839.txt           \n",
            "  inflating: News/184.txt            \n",
            "  inflating: News/1840.txt           \n",
            "  inflating: News/1841.txt           \n",
            "  inflating: News/1842.txt           \n",
            "  inflating: News/1843.txt           \n",
            "  inflating: News/1844.txt           \n",
            "  inflating: News/1845.txt           \n",
            "  inflating: News/1846.txt           \n",
            "  inflating: News/1847.txt           \n",
            "  inflating: News/1848.txt           \n",
            "  inflating: News/1849.txt           \n",
            "  inflating: News/185.txt            \n",
            "  inflating: News/1850.txt           \n",
            "  inflating: News/1851.txt           \n",
            "  inflating: News/1852.txt           \n",
            "  inflating: News/1853.txt           \n",
            "  inflating: News/1854.txt           \n",
            "  inflating: News/1855.txt           \n",
            "  inflating: News/1856.txt           \n",
            "  inflating: News/1857.txt           \n",
            "  inflating: News/1858.txt           \n",
            "  inflating: News/1859.txt           \n",
            "  inflating: News/186.txt            \n",
            "  inflating: News/1860.txt           \n",
            "  inflating: News/1861.txt           \n",
            "  inflating: News/1862.txt           \n",
            "  inflating: News/1863.txt           \n",
            "  inflating: News/1864.txt           \n",
            "  inflating: News/1865.txt           \n",
            "  inflating: News/1866.txt           \n",
            "  inflating: News/1867.txt           \n",
            "  inflating: News/1868.txt           \n",
            "  inflating: News/1869.txt           \n",
            "  inflating: News/187.txt            \n",
            "  inflating: News/1870.txt           \n",
            "  inflating: News/1871.txt           \n",
            "  inflating: News/1872.txt           \n",
            "  inflating: News/1873.txt           \n",
            "  inflating: News/1874.txt           \n",
            "  inflating: News/1875.txt           \n",
            "  inflating: News/1876.txt           \n",
            "  inflating: News/1877.txt           \n",
            "  inflating: News/1878.txt           \n",
            "  inflating: News/1879.txt           \n",
            "  inflating: News/188.txt            \n",
            "  inflating: News/1880.txt           \n",
            "  inflating: News/1881.txt           \n",
            "  inflating: News/1882.txt           \n",
            "  inflating: News/1883.txt           \n",
            "  inflating: News/1884.txt           \n",
            "  inflating: News/1885.txt           \n",
            "  inflating: News/1886.txt           \n",
            "  inflating: News/1887.txt           \n",
            "  inflating: News/1888.txt           \n",
            "  inflating: News/1889.txt           \n",
            "  inflating: News/189.txt            \n",
            "  inflating: News/1890.txt           \n",
            "  inflating: News/1891.txt           \n",
            "  inflating: News/1892.txt           \n",
            "  inflating: News/1893.txt           \n",
            "  inflating: News/1894.txt           \n",
            "  inflating: News/1895.txt           \n",
            "  inflating: News/1896.txt           \n",
            "  inflating: News/1897.txt           \n",
            "  inflating: News/1898.txt           \n",
            "  inflating: News/1899.txt           \n",
            "  inflating: News/19.txt             \n",
            "  inflating: News/190.txt            \n",
            "  inflating: News/1900.txt           \n",
            "  inflating: News/1901.txt           \n",
            "  inflating: News/1902.txt           \n",
            "  inflating: News/1903.txt           \n",
            "  inflating: News/1904.txt           \n",
            "  inflating: News/1905.txt           \n",
            "  inflating: News/1906.txt           \n",
            "  inflating: News/1907.txt           \n",
            "  inflating: News/1908.txt           \n",
            "  inflating: News/1909.txt           \n",
            "  inflating: News/191.txt            \n",
            "  inflating: News/1910.txt           \n",
            "  inflating: News/1911.txt           \n",
            "  inflating: News/1912.txt           \n",
            "  inflating: News/1913.txt           \n",
            "  inflating: News/1914.txt           \n",
            "  inflating: News/1915.txt           \n",
            "  inflating: News/1916.txt           \n",
            "  inflating: News/1917.txt           \n",
            "  inflating: News/1918.txt           \n",
            "  inflating: News/1919.txt           \n",
            "  inflating: News/192.txt            \n",
            "  inflating: News/1920.txt           \n",
            "  inflating: News/1921.txt           \n",
            "  inflating: News/1922.txt           \n",
            "  inflating: News/1923.txt           \n",
            "  inflating: News/1924.txt           \n",
            "  inflating: News/1925.txt           \n",
            "  inflating: News/1926.txt           \n",
            "  inflating: News/1927.txt           \n",
            "  inflating: News/1928.txt           \n",
            "  inflating: News/1929.txt           \n",
            "  inflating: News/193.txt            \n",
            "  inflating: News/1930.txt           \n",
            "  inflating: News/1931.txt           \n",
            "  inflating: News/1932.txt           \n",
            "  inflating: News/1933.txt           \n",
            "  inflating: News/1934.txt           \n",
            "  inflating: News/1935.txt           \n",
            "  inflating: News/1936.txt           \n",
            "  inflating: News/1937.txt           \n",
            "  inflating: News/1938.txt           \n",
            "  inflating: News/1939.txt           \n",
            "  inflating: News/194.txt            \n",
            "  inflating: News/1940.txt           \n",
            "  inflating: News/1941.txt           \n",
            "  inflating: News/1942.txt           \n",
            "  inflating: News/1943.txt           \n",
            "  inflating: News/1944.txt           \n",
            "  inflating: News/1945.txt           \n",
            "  inflating: News/1946.txt           \n",
            "  inflating: News/1947.txt           \n",
            "  inflating: News/1948.txt           \n",
            "  inflating: News/1949.txt           \n",
            "  inflating: News/195.txt            \n",
            "  inflating: News/1950.txt           \n",
            "  inflating: News/1951.txt           \n",
            "  inflating: News/1952.txt           \n",
            "  inflating: News/1953.txt           \n",
            "  inflating: News/1954.txt           \n",
            "  inflating: News/1955.txt           \n",
            "  inflating: News/1956.txt           \n",
            "  inflating: News/1957.txt           \n",
            "  inflating: News/1958.txt           \n",
            "  inflating: News/1959.txt           \n",
            "  inflating: News/196.txt            \n",
            "  inflating: News/1960.txt           \n",
            "  inflating: News/1961.txt           \n",
            "  inflating: News/1962.txt           \n",
            "  inflating: News/1963.txt           \n",
            "  inflating: News/1964.txt           \n",
            "  inflating: News/1965.txt           \n",
            "  inflating: News/1966.txt           \n",
            "  inflating: News/1967.txt           \n",
            "  inflating: News/1968.txt           \n",
            "  inflating: News/1969.txt           \n",
            "  inflating: News/197.txt            \n",
            "  inflating: News/1970.txt           \n",
            "  inflating: News/1971.txt           \n",
            "  inflating: News/1972.txt           \n",
            "  inflating: News/1973.txt           \n",
            "  inflating: News/1974.txt           \n",
            "  inflating: News/1975.txt           \n",
            "  inflating: News/1976.txt           \n",
            "  inflating: News/1977.txt           \n",
            "  inflating: News/1978.txt           \n",
            "  inflating: News/1979.txt           \n",
            "  inflating: News/198.txt            \n",
            "  inflating: News/1980.txt           \n",
            "  inflating: News/1981.txt           \n",
            "  inflating: News/1982.txt           \n",
            "  inflating: News/1983.txt           \n",
            "  inflating: News/1984.txt           \n",
            "  inflating: News/1985.txt           \n",
            "  inflating: News/1986.txt           \n",
            "  inflating: News/1987.txt           \n",
            "  inflating: News/1988.txt           \n",
            "  inflating: News/1989.txt           \n",
            "  inflating: News/199.txt            \n",
            "  inflating: News/1990.txt           \n",
            "  inflating: News/1991.txt           \n",
            "  inflating: News/1992.txt           \n",
            "  inflating: News/1993.txt           \n",
            "  inflating: News/1994.txt           \n",
            "  inflating: News/1995.txt           \n",
            "  inflating: News/1996.txt           \n",
            "  inflating: News/1997.txt           \n",
            "  inflating: News/1998.txt           \n",
            "  inflating: News/1999.txt           \n",
            "  inflating: News/2.txt              \n",
            "  inflating: News/20.txt             \n",
            "  inflating: News/200.txt            \n",
            "  inflating: News/2000.txt           \n",
            "  inflating: News/2001.txt           \n",
            "  inflating: News/2002.txt           \n",
            "  inflating: News/2003.txt           \n",
            "  inflating: News/2004.txt           \n",
            "  inflating: News/2005.txt           \n",
            "  inflating: News/2006.txt           \n",
            "  inflating: News/2007.txt           \n",
            "  inflating: News/2008.txt           \n",
            "  inflating: News/2009.txt           \n",
            "  inflating: News/201.txt            \n",
            "  inflating: News/2010.txt           \n",
            "  inflating: News/2011.txt           \n",
            "  inflating: News/2012.txt           \n",
            "  inflating: News/2013.txt           \n",
            "  inflating: News/2014.txt           \n",
            "  inflating: News/2015.txt           \n",
            "  inflating: News/2016.txt           \n",
            "  inflating: News/2017.txt           \n",
            "  inflating: News/2018.txt           \n",
            "  inflating: News/2019.txt           \n",
            "  inflating: News/202.txt            \n",
            "  inflating: News/2020.txt           \n",
            "  inflating: News/2021.txt           \n",
            "  inflating: News/2022.txt           \n",
            "  inflating: News/2023.txt           \n",
            "  inflating: News/2024.txt           \n",
            "  inflating: News/2025.txt           \n",
            "  inflating: News/2026.txt           \n",
            "  inflating: News/2027.txt           \n",
            "  inflating: News/2028.txt           \n",
            "  inflating: News/2029.txt           \n",
            "  inflating: News/203.txt            \n",
            "  inflating: News/2030.txt           \n",
            "  inflating: News/2031.txt           \n",
            "  inflating: News/2032.txt           \n",
            "  inflating: News/2033.txt           \n",
            "  inflating: News/2034.txt           \n",
            "  inflating: News/2035.txt           \n",
            "  inflating: News/2036.txt           \n",
            "  inflating: News/2037.txt           \n",
            "  inflating: News/2038.txt           \n",
            "  inflating: News/2039.txt           \n",
            "  inflating: News/204.txt            \n",
            "  inflating: News/2040.txt           \n",
            "  inflating: News/2041.txt           \n",
            "  inflating: News/2042.txt           \n",
            "  inflating: News/2043.txt           \n",
            "  inflating: News/2044.txt           \n",
            "  inflating: News/2045.txt           \n",
            "  inflating: News/2046.txt           \n",
            "  inflating: News/2047.txt           \n",
            "  inflating: News/2048.txt           \n",
            "  inflating: News/2049.txt           \n",
            "  inflating: News/205.txt            \n",
            "  inflating: News/2050.txt           \n",
            "  inflating: News/2051.txt           \n",
            "  inflating: News/2052.txt           \n",
            "  inflating: News/2053.txt           \n",
            "  inflating: News/2054.txt           \n",
            "  inflating: News/2055.txt           \n",
            "  inflating: News/2056.txt           \n",
            "  inflating: News/2057.txt           \n",
            "  inflating: News/2058.txt           \n",
            "  inflating: News/2059.txt           \n",
            "  inflating: News/206.txt            \n",
            "  inflating: News/2060.txt           \n",
            "  inflating: News/2061.txt           \n",
            "  inflating: News/2062.txt           \n",
            "  inflating: News/2063.txt           \n",
            "  inflating: News/2064.txt           \n",
            "  inflating: News/2065.txt           \n",
            "  inflating: News/2066.txt           \n",
            "  inflating: News/2067.txt           \n",
            "  inflating: News/2068.txt           \n",
            "  inflating: News/2069.txt           \n",
            "  inflating: News/207.txt            \n",
            "  inflating: News/2070.txt           \n",
            "  inflating: News/2071.txt           \n",
            "  inflating: News/2072.txt           \n",
            "  inflating: News/2073.txt           \n",
            "  inflating: News/2074.txt           \n",
            "  inflating: News/2075.txt           \n",
            "  inflating: News/2076.txt           \n",
            "  inflating: News/2077.txt           \n",
            "  inflating: News/2078.txt           \n",
            "  inflating: News/2079.txt           \n",
            "  inflating: News/208.txt            \n",
            "  inflating: News/2080.txt           \n",
            "  inflating: News/2081.txt           \n",
            "  inflating: News/2082.txt           \n",
            "  inflating: News/2083.txt           \n",
            "  inflating: News/2084.txt           \n",
            "  inflating: News/2085.txt           \n",
            "  inflating: News/2086.txt           \n",
            "  inflating: News/2087.txt           \n",
            "  inflating: News/2088.txt           \n",
            "  inflating: News/2089.txt           \n",
            "  inflating: News/209.txt            \n",
            "  inflating: News/2090.txt           \n",
            "  inflating: News/2091.txt           \n",
            "  inflating: News/2092.txt           \n",
            "  inflating: News/2093.txt           \n",
            "  inflating: News/2094.txt           \n",
            "  inflating: News/2095.txt           \n",
            "  inflating: News/2096.txt           \n",
            "  inflating: News/2097.txt           \n",
            "  inflating: News/2098.txt           \n",
            "  inflating: News/2099.txt           \n",
            "  inflating: News/21.txt             \n",
            "  inflating: News/210.txt            \n",
            "  inflating: News/2100.txt           \n",
            "  inflating: News/2101.txt           \n",
            "  inflating: News/2102.txt           \n",
            "  inflating: News/2103.txt           \n",
            "  inflating: News/2104.txt           \n",
            "  inflating: News/2105.txt           \n",
            "  inflating: News/2106.txt           \n",
            "  inflating: News/2107.txt           \n",
            "  inflating: News/2108.txt           \n",
            "  inflating: News/2109.txt           \n",
            "  inflating: News/211.txt            \n",
            "  inflating: News/2110.txt           \n",
            "  inflating: News/2111.txt           \n",
            "  inflating: News/2112.txt           \n",
            "  inflating: News/2113.txt           \n",
            "  inflating: News/2114.txt           \n",
            "  inflating: News/2115.txt           \n",
            "  inflating: News/2116.txt           \n",
            "  inflating: News/2117.txt           \n",
            "  inflating: News/2118.txt           \n",
            "  inflating: News/2119.txt           \n",
            "  inflating: News/212.txt            \n",
            "  inflating: News/2120.txt           \n",
            "  inflating: News/2121.txt           \n",
            "  inflating: News/2122.txt           \n",
            "  inflating: News/2123.txt           \n",
            "  inflating: News/2124.txt           \n",
            "  inflating: News/2125.txt           \n",
            "  inflating: News/2126.txt           \n",
            "  inflating: News/2127.txt           \n",
            "  inflating: News/2128.txt           \n",
            "  inflating: News/2129.txt           \n",
            "  inflating: News/213.txt            \n",
            "  inflating: News/2130.txt           \n",
            "  inflating: News/2131.txt           \n",
            "  inflating: News/2132.txt           \n",
            "  inflating: News/2133.txt           \n",
            "  inflating: News/2134.txt           \n",
            "  inflating: News/2135.txt           \n",
            "  inflating: News/2136.txt           \n",
            "  inflating: News/2137.txt           \n",
            "  inflating: News/2138.txt           \n",
            "  inflating: News/2139.txt           \n",
            "  inflating: News/214.txt            \n",
            "  inflating: News/2140.txt           \n",
            "  inflating: News/2141.txt           \n",
            "  inflating: News/2142.txt           \n",
            "  inflating: News/2143.txt           \n",
            "  inflating: News/2144.txt           \n",
            "  inflating: News/2145.txt           \n",
            "  inflating: News/2146.txt           \n",
            "  inflating: News/2147.txt           \n",
            "  inflating: News/2148.txt           \n",
            "  inflating: News/2149.txt           \n",
            "  inflating: News/215.txt            \n",
            "  inflating: News/2150.txt           \n",
            "  inflating: News/2151.txt           \n",
            "  inflating: News/2152.txt           \n",
            "  inflating: News/2153.txt           \n",
            "  inflating: News/2154.txt           \n",
            "  inflating: News/2155.txt           \n",
            "  inflating: News/2156.txt           \n",
            "  inflating: News/2157.txt           \n",
            "  inflating: News/2158.txt           \n",
            "  inflating: News/2159.txt           \n",
            "  inflating: News/216.txt            \n",
            "  inflating: News/2160.txt           \n",
            "  inflating: News/2161.txt           \n",
            "  inflating: News/2162.txt           \n",
            "  inflating: News/2163.txt           \n",
            "  inflating: News/2164.txt           \n",
            "  inflating: News/2165.txt           \n",
            "  inflating: News/2166.txt           \n",
            "  inflating: News/2167.txt           \n",
            "  inflating: News/2168.txt           \n",
            "  inflating: News/2169.txt           \n",
            "  inflating: News/217.txt            \n",
            "  inflating: News/2170.txt           \n",
            "  inflating: News/2171.txt           \n",
            "  inflating: News/2172.txt           \n",
            "  inflating: News/2173.txt           \n",
            "  inflating: News/2174.txt           \n",
            "  inflating: News/2175.txt           \n",
            "  inflating: News/2176.txt           \n",
            "  inflating: News/2177.txt           \n",
            "  inflating: News/2178.txt           \n",
            "  inflating: News/2179.txt           \n",
            "  inflating: News/218.txt            \n",
            "  inflating: News/2180.txt           \n",
            "  inflating: News/2181.txt           \n",
            "  inflating: News/2182.txt           \n",
            "  inflating: News/2183.txt           \n",
            "  inflating: News/2184.txt           \n",
            "  inflating: News/2185.txt           \n",
            "  inflating: News/2186.txt           \n",
            "  inflating: News/2187.txt           \n",
            "  inflating: News/2188.txt           \n",
            "  inflating: News/2189.txt           \n",
            "  inflating: News/219.txt            \n",
            "  inflating: News/2190.txt           \n",
            "  inflating: News/2191.txt           \n",
            "  inflating: News/2192.txt           \n",
            "  inflating: News/2193.txt           \n",
            "  inflating: News/2194.txt           \n",
            "  inflating: News/2195.txt           \n",
            "  inflating: News/2196.txt           \n",
            "  inflating: News/2197.txt           \n",
            "  inflating: News/2198.txt           \n",
            "  inflating: News/2199.txt           \n",
            "  inflating: News/22.txt             \n",
            "  inflating: News/220.txt            \n",
            "  inflating: News/2200.txt           \n",
            "  inflating: News/2201.txt           \n",
            "  inflating: News/2202.txt           \n",
            "  inflating: News/2203.txt           \n",
            "  inflating: News/2204.txt           \n",
            "  inflating: News/2205.txt           \n",
            "  inflating: News/2206.txt           \n",
            "  inflating: News/2207.txt           \n",
            "  inflating: News/2208.txt           \n",
            "  inflating: News/2209.txt           \n",
            "  inflating: News/221.txt            \n",
            "  inflating: News/2210.txt           \n",
            "  inflating: News/2211.txt           \n",
            "  inflating: News/2212.txt           \n",
            "  inflating: News/2213.txt           \n",
            "  inflating: News/2214.txt           \n",
            "  inflating: News/2215.txt           \n",
            "  inflating: News/2216.txt           \n",
            "  inflating: News/2217.txt           \n",
            "  inflating: News/2218.txt           \n",
            "  inflating: News/222.txt            \n",
            "  inflating: News/2220.txt           \n",
            "  inflating: News/2221.txt           \n",
            "  inflating: News/2222.txt           \n",
            "  inflating: News/2223.txt           \n",
            "  inflating: News/2224.txt           \n",
            "  inflating: News/2225.txt           \n",
            "  inflating: News/223.txt            \n",
            "  inflating: News/224.txt            \n",
            "  inflating: News/225.txt            \n",
            "  inflating: News/226.txt            \n",
            "  inflating: News/227.txt            \n",
            "  inflating: News/228.txt            \n",
            "  inflating: News/229.txt            \n",
            "  inflating: News/23.txt             \n",
            "  inflating: News/230.txt            \n",
            "  inflating: News/231.txt            \n",
            "  inflating: News/232.txt            \n",
            "  inflating: News/233.txt            \n",
            "  inflating: News/234.txt            \n",
            "  inflating: News/235.txt            \n",
            "  inflating: News/236.txt            \n",
            "  inflating: News/237.txt            \n",
            "  inflating: News/238.txt            \n",
            "  inflating: News/239.txt            \n",
            "  inflating: News/24.txt             \n",
            "  inflating: News/240.txt            \n",
            "  inflating: News/241.txt            \n",
            "  inflating: News/242.txt            \n",
            "  inflating: News/243.txt            \n",
            "  inflating: News/244.txt            \n",
            "  inflating: News/245.txt            \n",
            "  inflating: News/246.txt            \n",
            "  inflating: News/247.txt            \n",
            "  inflating: News/248.txt            \n",
            "  inflating: News/249.txt            \n",
            "  inflating: News/25.txt             \n",
            "  inflating: News/250.txt            \n",
            "  inflating: News/251.txt            \n",
            "  inflating: News/252.txt            \n",
            "  inflating: News/253.txt            \n",
            "  inflating: News/254.txt            \n",
            "  inflating: News/255.txt            \n",
            "  inflating: News/256.txt            \n",
            "  inflating: News/257.txt            \n",
            "  inflating: News/258.txt            \n",
            "  inflating: News/259.txt            \n",
            "  inflating: News/26.txt             \n",
            "  inflating: News/260.txt            \n",
            "  inflating: News/261.txt            \n",
            "  inflating: News/262.txt            \n",
            "  inflating: News/263.txt            \n",
            "  inflating: News/264.txt            \n",
            "  inflating: News/265.txt            \n",
            "  inflating: News/266.txt            \n",
            "  inflating: News/267.txt            \n",
            "  inflating: News/268.txt            \n",
            "  inflating: News/269.txt            \n",
            "  inflating: News/27.txt             \n",
            "  inflating: News/270.txt            \n",
            "  inflating: News/271.txt            \n",
            "  inflating: News/272.txt            \n",
            "  inflating: News/273.txt            \n",
            "  inflating: News/274.txt            \n",
            "  inflating: News/275.txt            \n",
            "  inflating: News/276.txt            \n",
            "  inflating: News/277.txt            \n",
            "  inflating: News/278.txt            \n",
            "  inflating: News/279.txt            \n",
            "  inflating: News/28.txt             \n",
            "  inflating: News/280.txt            \n",
            "  inflating: News/281.txt            \n",
            "  inflating: News/282.txt            \n",
            "  inflating: News/283.txt            \n",
            "  inflating: News/284.txt            \n",
            "  inflating: News/285.txt            \n",
            "  inflating: News/286.txt            \n",
            "  inflating: News/287.txt            \n",
            "  inflating: News/288.txt            \n",
            "  inflating: News/289.txt            \n",
            "  inflating: News/29.txt             \n",
            "  inflating: News/290.txt            \n",
            "  inflating: News/291.txt            \n",
            "  inflating: News/292.txt            \n",
            "  inflating: News/293.txt            \n",
            "  inflating: News/294.txt            \n",
            "  inflating: News/295.txt            \n",
            "  inflating: News/296.txt            \n",
            "  inflating: News/297.txt            \n",
            "  inflating: News/298.txt            \n",
            "  inflating: News/299.txt            \n",
            "  inflating: News/3.txt              \n",
            "  inflating: News/30.txt             \n",
            "  inflating: News/300.txt            \n",
            "  inflating: News/301.txt            \n",
            "  inflating: News/302.txt            \n",
            "  inflating: News/303.txt            \n",
            "  inflating: News/304.txt            \n",
            "  inflating: News/305.txt            \n",
            "  inflating: News/306.txt            \n",
            "  inflating: News/307.txt            \n",
            "  inflating: News/308.txt            \n",
            "  inflating: News/309.txt            \n",
            "  inflating: News/31.txt             \n",
            "  inflating: News/310.txt            \n",
            "  inflating: News/311.txt            \n",
            "  inflating: News/312.txt            \n",
            "  inflating: News/313.txt            \n",
            "  inflating: News/314.txt            \n",
            "  inflating: News/315.txt            \n",
            "  inflating: News/316.txt            \n",
            "  inflating: News/317.txt            \n",
            "  inflating: News/318.txt            \n",
            "  inflating: News/319.txt            \n",
            "  inflating: News/32.txt             \n",
            "  inflating: News/320.txt            \n",
            "  inflating: News/321.txt            \n",
            "  inflating: News/322.txt            \n",
            "  inflating: News/323.txt            \n",
            "  inflating: News/324.txt            \n",
            "  inflating: News/325.txt            \n",
            "  inflating: News/326.txt            \n",
            "  inflating: News/327.txt            \n",
            "  inflating: News/328.txt            \n",
            "  inflating: News/329.txt            \n",
            "  inflating: News/33.txt             \n",
            "  inflating: News/330.txt            \n",
            "  inflating: News/331.txt            \n",
            "  inflating: News/332.txt            \n",
            "  inflating: News/333.txt            \n",
            "  inflating: News/334.txt            \n",
            "  inflating: News/335.txt            \n",
            "  inflating: News/336.txt            \n",
            "  inflating: News/337.txt            \n",
            "  inflating: News/338.txt            \n",
            "  inflating: News/339.txt            \n",
            "  inflating: News/34.txt             \n",
            "  inflating: News/340.txt            \n",
            "  inflating: News/341.txt            \n",
            "  inflating: News/342.txt            \n",
            "  inflating: News/343.txt            \n",
            "  inflating: News/344.txt            \n",
            "  inflating: News/345.txt            \n",
            "  inflating: News/346.txt            \n",
            "  inflating: News/347.txt            \n",
            "  inflating: News/348.txt            \n",
            "  inflating: News/349.txt            \n",
            "  inflating: News/35.txt             \n",
            "  inflating: News/350.txt            \n",
            "  inflating: News/351.txt            \n",
            "  inflating: News/352.txt            \n",
            "  inflating: News/353.txt            \n",
            "  inflating: News/354.txt            \n",
            "  inflating: News/355.txt            \n",
            "  inflating: News/356.txt            \n",
            "  inflating: News/357.txt            \n",
            "  inflating: News/358.txt            \n",
            "  inflating: News/359.txt            \n",
            "  inflating: News/36.txt             \n",
            "  inflating: News/360.txt            \n",
            "  inflating: News/361.txt            \n",
            "  inflating: News/362.txt            \n",
            "  inflating: News/363.txt            \n",
            "  inflating: News/364.txt            \n",
            "  inflating: News/365.txt            \n",
            "  inflating: News/366.txt            \n",
            "  inflating: News/367.txt            \n",
            "  inflating: News/368.txt            \n",
            "  inflating: News/369.txt            \n",
            "  inflating: News/37.txt             \n",
            "  inflating: News/370.txt            \n",
            "  inflating: News/371.txt            \n",
            "  inflating: News/372.txt            \n",
            "  inflating: News/373.txt            \n",
            "  inflating: News/374.txt            \n",
            "  inflating: News/375.txt            \n",
            "  inflating: News/376.txt            \n",
            "  inflating: News/377.txt            \n",
            "  inflating: News/378.txt            \n",
            "  inflating: News/379.txt            \n",
            "  inflating: News/38.txt             \n",
            "  inflating: News/380.txt            \n",
            "  inflating: News/381.txt            \n",
            "  inflating: News/382.txt            \n",
            "  inflating: News/383.txt            \n",
            "  inflating: News/384.txt            \n",
            "  inflating: News/385.txt            \n",
            "  inflating: News/386.txt            \n",
            "  inflating: News/387.txt            \n",
            "  inflating: News/388.txt            \n",
            "  inflating: News/389.txt            \n",
            "  inflating: News/39.txt             \n",
            "  inflating: News/390.txt            \n",
            "  inflating: News/391.txt            \n",
            "  inflating: News/392.txt            \n",
            "  inflating: News/393.txt            \n",
            "  inflating: News/394.txt            \n",
            "  inflating: News/395.txt            \n",
            "  inflating: News/396.txt            \n",
            "  inflating: News/397.txt            \n",
            "  inflating: News/398.txt            \n",
            "  inflating: News/399.txt            \n",
            "  inflating: News/4.txt              \n",
            "  inflating: News/40.txt             \n",
            "  inflating: News/400.txt            \n",
            "  inflating: News/401.txt            \n",
            "  inflating: News/402.txt            \n",
            "  inflating: News/403.txt            \n",
            "  inflating: News/404.txt            \n",
            "  inflating: News/405.txt            \n",
            "  inflating: News/406.txt            \n",
            "  inflating: News/407.txt            \n",
            "  inflating: News/408.txt            \n",
            "  inflating: News/409.txt            \n",
            "  inflating: News/41.txt             \n",
            "  inflating: News/410.txt            \n",
            "  inflating: News/411.txt            \n",
            "  inflating: News/412.txt            \n",
            "  inflating: News/413.txt            \n",
            "  inflating: News/414.txt            \n",
            "  inflating: News/415.txt            \n",
            "  inflating: News/416.txt            \n",
            "  inflating: News/417.txt            \n",
            "  inflating: News/418.txt            \n",
            "  inflating: News/419.txt            \n",
            "  inflating: News/42.txt             \n",
            "  inflating: News/420.txt            \n",
            "  inflating: News/421.txt            \n",
            "  inflating: News/422.txt            \n",
            "  inflating: News/423.txt            \n",
            "  inflating: News/424.txt            \n",
            "  inflating: News/425.txt            \n",
            "  inflating: News/426.txt            \n",
            "  inflating: News/427.txt            \n",
            "  inflating: News/428.txt            \n",
            "  inflating: News/429.txt            \n",
            "  inflating: News/43.txt             \n",
            "  inflating: News/430.txt            \n",
            "  inflating: News/431.txt            \n",
            "  inflating: News/432.txt            \n",
            "  inflating: News/433.txt            \n",
            "  inflating: News/434.txt            \n",
            "  inflating: News/435.txt            \n",
            "  inflating: News/436.txt            \n",
            "  inflating: News/437.txt            \n",
            "  inflating: News/438.txt            \n",
            "  inflating: News/439.txt            \n",
            "  inflating: News/44.txt             \n",
            "  inflating: News/440.txt            \n",
            "  inflating: News/441.txt            \n",
            "  inflating: News/442.txt            \n",
            "  inflating: News/443.txt            \n",
            "  inflating: News/444.txt            \n",
            "  inflating: News/445.txt            \n",
            "  inflating: News/446.txt            \n",
            "  inflating: News/447.txt            \n",
            "  inflating: News/448.txt            \n",
            "  inflating: News/449.txt            \n",
            "  inflating: News/45.txt             \n",
            "  inflating: News/450.txt            \n",
            "  inflating: News/451.txt            \n",
            "  inflating: News/452.txt            \n",
            "  inflating: News/453.txt            \n",
            "  inflating: News/454.txt            \n",
            "  inflating: News/455.txt            \n",
            "  inflating: News/456.txt            \n",
            "  inflating: News/457.txt            \n",
            "  inflating: News/458.txt            \n",
            "  inflating: News/459.txt            \n",
            "  inflating: News/46.txt             \n",
            "  inflating: News/460.txt            \n",
            "  inflating: News/461.txt            \n",
            "  inflating: News/462.txt            \n",
            "  inflating: News/463.txt            \n",
            "  inflating: News/464.txt            \n",
            "  inflating: News/465.txt            \n",
            "  inflating: News/466.txt            \n",
            "  inflating: News/467.txt            \n",
            "  inflating: News/468.txt            \n",
            "  inflating: News/469.txt            \n",
            "  inflating: News/47.txt             \n",
            "  inflating: News/470.txt            \n",
            "  inflating: News/471.txt            \n",
            "  inflating: News/472.txt            \n",
            "  inflating: News/473.txt            \n",
            "  inflating: News/474.txt            \n",
            "  inflating: News/475.txt            \n",
            "  inflating: News/476.txt            \n",
            "  inflating: News/477.txt            \n",
            "  inflating: News/478.txt            \n",
            "  inflating: News/479.txt            \n",
            "  inflating: News/48.txt             \n",
            "  inflating: News/480.txt            \n",
            "  inflating: News/481.txt            \n",
            "  inflating: News/482.txt            \n",
            "  inflating: News/483.txt            \n",
            "  inflating: News/484.txt            \n",
            "  inflating: News/485.txt            \n",
            "  inflating: News/486.txt            \n",
            "  inflating: News/487.txt            \n",
            "  inflating: News/488.txt            \n",
            "  inflating: News/489.txt            \n",
            "  inflating: News/49.txt             \n",
            "  inflating: News/490.txt            \n",
            "  inflating: News/491.txt            \n",
            "  inflating: News/492.txt            \n",
            "  inflating: News/493.txt            \n",
            "  inflating: News/494.txt            \n",
            "  inflating: News/495.txt            \n",
            "  inflating: News/496.txt            \n",
            "  inflating: News/497.txt            \n",
            "  inflating: News/498.txt            \n",
            "  inflating: News/499.txt            \n",
            "  inflating: News/5.txt              \n",
            "  inflating: News/50.txt             \n",
            "  inflating: News/500.txt            \n",
            "  inflating: News/501.txt            \n",
            "  inflating: News/502.txt            \n",
            "  inflating: News/503.txt            \n",
            "  inflating: News/504.txt            \n",
            "  inflating: News/505.txt            \n",
            "  inflating: News/506.txt            \n",
            "  inflating: News/507.txt            \n",
            "  inflating: News/508.txt            \n",
            "  inflating: News/509.txt            \n",
            "  inflating: News/51.txt             \n",
            "  inflating: News/510.txt            \n",
            "  inflating: News/511.txt            \n",
            "  inflating: News/512.txt            \n",
            "  inflating: News/513.txt            \n",
            "  inflating: News/514.txt            \n",
            "  inflating: News/515.txt            \n",
            "  inflating: News/516.txt            \n",
            "  inflating: News/517.txt            \n",
            "  inflating: News/518.txt            \n",
            "  inflating: News/519.txt            \n",
            "  inflating: News/52.txt             \n",
            "  inflating: News/520.txt            \n",
            "  inflating: News/521.txt            \n",
            "  inflating: News/522.txt            \n",
            "  inflating: News/523.txt            \n",
            "  inflating: News/524.txt            \n",
            "  inflating: News/525.txt            \n",
            "  inflating: News/526.txt            \n",
            "  inflating: News/527.txt            \n",
            "  inflating: News/528.txt            \n",
            "  inflating: News/529.txt            \n",
            "  inflating: News/53.txt             \n",
            "  inflating: News/530.txt            \n",
            "  inflating: News/531.txt            \n",
            "  inflating: News/532.txt            \n",
            "  inflating: News/533.txt            \n",
            "  inflating: News/534.txt            \n",
            "  inflating: News/535.txt            \n",
            "  inflating: News/536.txt            \n",
            "  inflating: News/537.txt            \n",
            "  inflating: News/538.txt            \n",
            "  inflating: News/539.txt            \n",
            "  inflating: News/54.txt             \n",
            "  inflating: News/540.txt            \n",
            "  inflating: News/541.txt            \n",
            "  inflating: News/542.txt            \n",
            "  inflating: News/543.txt            \n",
            "  inflating: News/544.txt            \n",
            "  inflating: News/545.txt            \n",
            "  inflating: News/546.txt            \n",
            "  inflating: News/547.txt            \n",
            "  inflating: News/548.txt            \n",
            "  inflating: News/549.txt            \n",
            "  inflating: News/55.txt             \n",
            "  inflating: News/550.txt            \n",
            "  inflating: News/551.txt            \n",
            "  inflating: News/552.txt            \n",
            "  inflating: News/553.txt            \n",
            "  inflating: News/554.txt            \n",
            "  inflating: News/555.txt            \n",
            "  inflating: News/556.txt            \n",
            "  inflating: News/557.txt            \n",
            "  inflating: News/558.txt            \n",
            "  inflating: News/559.txt            \n",
            "  inflating: News/56.txt             \n",
            "  inflating: News/560.txt            \n",
            "  inflating: News/561.txt            \n",
            "  inflating: News/562.txt            \n",
            "  inflating: News/563.txt            \n",
            "  inflating: News/564.txt            \n",
            "  inflating: News/565.txt            \n",
            "  inflating: News/566.txt            \n",
            "  inflating: News/567.txt            \n",
            "  inflating: News/568.txt            \n",
            "  inflating: News/569.txt            \n",
            "  inflating: News/57.txt             \n",
            "  inflating: News/570.txt            \n",
            "  inflating: News/571.txt            \n",
            "  inflating: News/572.txt            \n",
            "  inflating: News/573.txt            \n",
            "  inflating: News/574.txt            \n",
            "  inflating: News/575.txt            \n",
            "  inflating: News/576.txt            \n",
            "  inflating: News/577.txt            \n",
            "  inflating: News/578.txt            \n",
            "  inflating: News/579.txt            \n",
            "  inflating: News/58.txt             \n",
            "  inflating: News/580.txt            \n",
            "  inflating: News/581.txt            \n",
            "  inflating: News/582.txt            \n",
            "  inflating: News/583.txt            \n",
            "  inflating: News/584.txt            \n",
            "  inflating: News/585.txt            \n",
            "  inflating: News/586.txt            \n",
            "  inflating: News/587.txt            \n",
            "  inflating: News/588.txt            \n",
            "  inflating: News/589.txt            \n",
            "  inflating: News/59.txt             \n",
            "  inflating: News/590.txt            \n",
            "  inflating: News/591.txt            \n",
            "  inflating: News/592.txt            \n",
            "  inflating: News/593.txt            \n",
            "  inflating: News/594.txt            \n",
            "  inflating: News/595.txt            \n",
            "  inflating: News/596.txt            \n",
            "  inflating: News/597.txt            \n",
            "  inflating: News/598.txt            \n",
            "  inflating: News/599.txt            \n",
            "  inflating: News/6.txt              \n",
            "  inflating: News/60.txt             \n",
            "  inflating: News/600.txt            \n",
            "  inflating: News/601.txt            \n",
            "  inflating: News/602.txt            \n",
            "  inflating: News/603.txt            \n",
            "  inflating: News/604.txt            \n",
            "  inflating: News/605.txt            \n",
            "  inflating: News/606.txt            \n",
            "  inflating: News/607.txt            \n",
            "  inflating: News/608.txt            \n",
            "  inflating: News/609.txt            \n",
            "  inflating: News/61.txt             \n",
            "  inflating: News/610.txt            \n",
            "  inflating: News/611.txt            \n",
            "  inflating: News/612.txt            \n",
            "  inflating: News/613.txt            \n",
            "  inflating: News/614.txt            \n",
            "  inflating: News/615.txt            \n",
            "  inflating: News/616.txt            \n",
            "  inflating: News/617.txt            \n",
            "  inflating: News/618.txt            \n",
            "  inflating: News/619.txt            \n",
            "  inflating: News/62.txt             \n",
            "  inflating: News/620.txt            \n",
            "  inflating: News/621.txt            \n",
            "  inflating: News/622.txt            \n",
            "  inflating: News/623.txt            \n",
            "  inflating: News/624.txt            \n",
            "  inflating: News/625.txt            \n",
            "  inflating: News/626.txt            \n",
            "  inflating: News/627.txt            \n",
            "  inflating: News/628.txt            \n",
            "  inflating: News/629.txt            \n",
            "  inflating: News/63.txt             \n",
            "  inflating: News/630.txt            \n",
            "  inflating: News/631.txt            \n",
            "  inflating: News/632.txt            \n",
            "  inflating: News/633.txt            \n",
            "  inflating: News/634.txt            \n",
            "  inflating: News/635.txt            \n",
            "  inflating: News/636.txt            \n",
            "  inflating: News/637.txt            \n",
            "  inflating: News/638.txt            \n",
            "  inflating: News/639.txt            \n",
            "  inflating: News/64.txt             \n",
            "  inflating: News/640.txt            \n",
            "  inflating: News/641.txt            \n",
            "  inflating: News/642.txt            \n",
            "  inflating: News/643.txt            \n",
            "  inflating: News/644.txt            \n",
            "  inflating: News/645.txt            \n",
            "  inflating: News/646.txt            \n",
            "  inflating: News/647.txt            \n",
            "  inflating: News/648.txt            \n",
            "  inflating: News/649.txt            \n",
            "  inflating: News/65.txt             \n",
            "  inflating: News/650.txt            \n",
            "  inflating: News/651.txt            \n",
            "  inflating: News/652.txt            \n",
            "  inflating: News/653.txt            \n",
            "  inflating: News/654.txt            \n",
            "  inflating: News/655.txt            \n",
            "  inflating: News/656.txt            \n",
            "  inflating: News/657.txt            \n",
            "  inflating: News/658.txt            \n",
            "  inflating: News/659.txt            \n",
            "  inflating: News/66.txt             \n",
            "  inflating: News/660.txt            \n",
            "  inflating: News/661.txt            \n",
            "  inflating: News/662.txt            \n",
            "  inflating: News/663.txt            \n",
            "  inflating: News/664.txt            \n",
            "  inflating: News/665.txt            \n",
            "  inflating: News/666.txt            \n",
            "  inflating: News/667.txt            \n",
            "  inflating: News/668.txt            \n",
            "  inflating: News/669.txt            \n",
            "  inflating: News/67.txt             \n",
            "  inflating: News/670.txt            \n",
            "  inflating: News/671.txt            \n",
            "  inflating: News/672.txt            \n",
            "  inflating: News/673.txt            \n",
            "  inflating: News/674.txt            \n",
            "  inflating: News/675.txt            \n",
            "  inflating: News/676.txt            \n",
            "  inflating: News/677.txt            \n",
            "  inflating: News/678.txt            \n",
            "  inflating: News/679.txt            \n",
            "  inflating: News/68.txt             \n",
            "  inflating: News/680.txt            \n",
            "  inflating: News/681.txt            \n",
            "  inflating: News/682.txt            \n",
            "  inflating: News/683.txt            \n",
            "  inflating: News/684.txt            \n",
            "  inflating: News/685.txt            \n",
            "  inflating: News/686.txt            \n",
            "  inflating: News/687.txt            \n",
            "  inflating: News/688.txt            \n",
            "  inflating: News/689.txt            \n",
            "  inflating: News/69.txt             \n",
            "  inflating: News/690.txt            \n",
            "  inflating: News/691.txt            \n",
            "  inflating: News/692.txt            \n",
            "  inflating: News/693.txt            \n",
            "  inflating: News/694.txt            \n",
            "  inflating: News/695.txt            \n",
            "  inflating: News/696.txt            \n",
            "  inflating: News/697.txt            \n",
            "  inflating: News/698.txt            \n",
            "  inflating: News/699.txt            \n",
            "  inflating: News/7.txt              \n",
            "  inflating: News/70.txt             \n",
            "  inflating: News/700.txt            \n",
            "  inflating: News/701.txt            \n",
            "  inflating: News/702.txt            \n",
            "  inflating: News/703.txt            \n",
            "  inflating: News/704.txt            \n",
            "  inflating: News/705.txt            \n",
            "  inflating: News/706.txt            \n",
            "  inflating: News/707.txt            \n",
            "  inflating: News/708.txt            \n",
            "  inflating: News/709.txt            \n",
            "  inflating: News/71.txt             \n",
            "  inflating: News/710.txt            \n",
            "  inflating: News/711.txt            \n",
            "  inflating: News/712.txt            \n",
            "  inflating: News/713.txt            \n",
            "  inflating: News/714.txt            \n",
            "  inflating: News/715.txt            \n",
            "  inflating: News/716.txt            \n",
            "  inflating: News/717.txt            \n",
            "  inflating: News/718.txt            \n",
            "  inflating: News/719.txt            \n",
            "  inflating: News/72.txt             \n",
            "  inflating: News/720.txt            \n",
            "  inflating: News/721.txt            \n",
            "  inflating: News/722.txt            \n",
            "  inflating: News/723.txt            \n",
            "  inflating: News/724.txt            \n",
            "  inflating: News/725.txt            \n",
            "  inflating: News/726.txt            \n",
            "  inflating: News/727.txt            \n",
            "  inflating: News/728.txt            \n",
            "  inflating: News/729.txt            \n",
            "  inflating: News/73.txt             \n",
            "  inflating: News/730.txt            \n",
            "  inflating: News/731.txt            \n",
            "  inflating: News/732.txt            \n",
            "  inflating: News/733.txt            \n",
            "  inflating: News/734.txt            \n",
            "  inflating: News/735.txt            \n",
            "  inflating: News/736.txt            \n",
            "  inflating: News/737.txt            \n",
            "  inflating: News/738.txt            \n",
            "  inflating: News/739.txt            \n",
            "  inflating: News/74.txt             \n",
            "  inflating: News/740.txt            \n",
            "  inflating: News/741.txt            \n",
            "  inflating: News/742.txt            \n",
            "  inflating: News/743.txt            \n",
            "  inflating: News/744.txt            \n",
            "  inflating: News/745.txt            \n",
            "  inflating: News/746.txt            \n",
            "  inflating: News/747.txt            \n",
            "  inflating: News/748.txt            \n",
            "  inflating: News/749.txt            \n",
            "  inflating: News/75.txt             \n",
            "  inflating: News/750.txt            \n",
            "  inflating: News/751.txt            \n",
            "  inflating: News/752.txt            \n",
            "  inflating: News/753.txt            \n",
            "  inflating: News/754.txt            \n",
            "  inflating: News/755.txt            \n",
            "  inflating: News/756.txt            \n",
            "  inflating: News/757.txt            \n",
            "  inflating: News/758.txt            \n",
            "  inflating: News/759.txt            \n",
            "  inflating: News/76.txt             \n",
            "  inflating: News/760.txt            \n",
            "  inflating: News/761.txt            \n",
            "  inflating: News/762.txt            \n",
            "  inflating: News/763.txt            \n",
            "  inflating: News/764.txt            \n",
            "  inflating: News/765.txt            \n",
            "  inflating: News/766.txt            \n",
            "  inflating: News/767.txt            \n",
            "  inflating: News/768.txt            \n",
            "  inflating: News/769.txt            \n",
            "  inflating: News/77.txt             \n",
            "  inflating: News/770.txt            \n",
            "  inflating: News/771.txt            \n",
            "  inflating: News/772.txt            \n",
            "  inflating: News/773.txt            \n",
            "  inflating: News/774.txt            \n",
            "  inflating: News/775.txt            \n",
            "  inflating: News/776.txt            \n",
            "  inflating: News/777.txt            \n",
            "  inflating: News/778.txt            \n",
            "  inflating: News/779.txt            \n",
            "  inflating: News/78.txt             \n",
            "  inflating: News/780.txt            \n",
            "  inflating: News/781.txt            \n",
            "  inflating: News/782.txt            \n",
            "  inflating: News/783.txt            \n",
            "  inflating: News/784.txt            \n",
            "  inflating: News/785.txt            \n",
            "  inflating: News/786.txt            \n",
            "  inflating: News/787.txt            \n",
            "  inflating: News/788.txt            \n",
            "  inflating: News/789.txt            \n",
            "  inflating: News/79.txt             \n",
            "  inflating: News/790.txt            \n",
            "  inflating: News/791.txt            \n",
            "  inflating: News/792.txt            \n",
            "  inflating: News/793.txt            \n",
            "  inflating: News/794.txt            \n",
            "  inflating: News/795.txt            \n",
            "  inflating: News/796.txt            \n",
            "  inflating: News/797.txt            \n",
            "  inflating: News/798.txt            \n",
            "  inflating: News/799.txt            \n",
            "  inflating: News/8.txt              \n",
            "  inflating: News/80.txt             \n",
            "  inflating: News/800.txt            \n",
            "  inflating: News/801.txt            \n",
            "  inflating: News/802.txt            \n",
            "  inflating: News/803.txt            \n",
            "  inflating: News/804.txt            \n",
            "  inflating: News/805.txt            \n",
            "  inflating: News/806.txt            \n",
            "  inflating: News/807.txt            \n",
            "  inflating: News/808.txt            \n",
            "  inflating: News/809.txt            \n",
            "  inflating: News/81.txt             \n",
            "  inflating: News/810.txt            \n",
            "  inflating: News/811.txt            \n",
            "  inflating: News/812.txt            \n",
            "  inflating: News/813.txt            \n",
            "  inflating: News/814.txt            \n",
            "  inflating: News/815.txt            \n",
            "  inflating: News/816.txt            \n",
            "  inflating: News/817.txt            \n",
            "  inflating: News/818.txt            \n",
            "  inflating: News/819.txt            \n",
            "  inflating: News/82.txt             \n",
            "  inflating: News/820.txt            \n",
            "  inflating: News/821.txt            \n",
            "  inflating: News/822.txt            \n",
            "  inflating: News/823.txt            \n",
            "  inflating: News/824.txt            \n",
            "  inflating: News/825.txt            \n",
            "  inflating: News/826.txt            \n",
            "  inflating: News/827.txt            \n",
            "  inflating: News/828.txt            \n",
            "  inflating: News/829.txt            \n",
            "  inflating: News/83.txt             \n",
            "  inflating: News/830.txt            \n",
            "  inflating: News/831.txt            \n",
            "  inflating: News/832.txt            \n",
            "  inflating: News/833.txt            \n",
            "  inflating: News/834.txt            \n",
            "  inflating: News/835.txt            \n",
            "  inflating: News/836.txt            \n",
            "  inflating: News/837.txt            \n",
            "  inflating: News/838.txt            \n",
            "  inflating: News/839.txt            \n",
            "  inflating: News/84.txt             \n",
            "  inflating: News/840.txt            \n",
            "  inflating: News/841.txt            \n",
            "  inflating: News/842.txt            \n",
            "  inflating: News/843.txt            \n",
            "  inflating: News/844.txt            \n",
            "  inflating: News/845.txt            \n",
            "  inflating: News/846.txt            \n",
            "  inflating: News/847.txt            \n",
            "  inflating: News/848.txt            \n",
            "  inflating: News/849.txt            \n",
            "  inflating: News/85.txt             \n",
            "  inflating: News/850.txt            \n",
            "  inflating: News/851.txt            \n",
            "  inflating: News/852.txt            \n",
            "  inflating: News/853.txt            \n",
            "  inflating: News/854.txt            \n",
            "  inflating: News/855.txt            \n",
            "  inflating: News/856.txt            \n",
            "  inflating: News/857.txt            \n",
            "  inflating: News/858.txt            \n",
            "  inflating: News/859.txt            \n",
            "  inflating: News/86.txt             \n",
            "  inflating: News/860.txt            \n",
            "  inflating: News/861.txt            \n",
            "  inflating: News/862.txt            \n",
            "  inflating: News/863.txt            \n",
            "  inflating: News/864.txt            \n",
            "  inflating: News/865.txt            \n",
            "  inflating: News/866.txt            \n",
            "  inflating: News/867.txt            \n",
            "  inflating: News/868.txt            \n",
            "  inflating: News/869.txt            \n",
            "  inflating: News/87.txt             \n",
            "  inflating: News/870.txt            \n",
            "  inflating: News/871.txt            \n",
            "  inflating: News/872.txt            \n",
            "  inflating: News/873.txt            \n",
            "  inflating: News/874.txt            \n",
            "  inflating: News/875.txt            \n",
            "  inflating: News/876.txt            \n",
            "  inflating: News/877.txt            \n",
            "  inflating: News/878.txt            \n",
            "  inflating: News/879.txt            \n",
            "  inflating: News/88.txt             \n",
            "  inflating: News/880.txt            \n",
            "  inflating: News/881.txt            \n",
            "  inflating: News/882.txt            \n",
            "  inflating: News/883.txt            \n",
            "  inflating: News/884.txt            \n",
            "  inflating: News/885.txt            \n",
            "  inflating: News/886.txt            \n",
            "  inflating: News/887.txt            \n",
            "  inflating: News/888.txt            \n",
            "  inflating: News/889.txt            \n",
            "  inflating: News/89.txt             \n",
            "  inflating: News/890.txt            \n",
            "  inflating: News/891.txt            \n",
            "  inflating: News/892.txt            \n",
            "  inflating: News/893.txt            \n",
            "  inflating: News/894.txt            \n",
            "  inflating: News/895.txt            \n",
            "  inflating: News/896.txt            \n",
            "  inflating: News/897.txt            \n",
            "  inflating: News/898.txt            \n",
            "  inflating: News/899.txt            \n",
            "  inflating: News/9.txt              \n",
            "  inflating: News/90.txt             \n",
            "  inflating: News/900.txt            \n",
            "  inflating: News/901.txt            \n",
            "  inflating: News/902.txt            \n",
            "  inflating: News/903.txt            \n",
            "  inflating: News/904.txt            \n",
            "  inflating: News/905.txt            \n",
            "  inflating: News/906.txt            \n",
            "  inflating: News/907.txt            \n",
            "  inflating: News/908.txt            \n",
            "  inflating: News/909.txt            \n",
            "  inflating: News/91.txt             \n",
            "  inflating: News/910.txt            \n",
            "  inflating: News/911.txt            \n",
            "  inflating: News/912.txt            \n",
            "  inflating: News/913.txt            \n",
            "  inflating: News/914.txt            \n",
            "  inflating: News/915.txt            \n",
            "  inflating: News/916.txt            \n",
            "  inflating: News/917.txt            \n",
            "  inflating: News/918.txt            \n",
            "  inflating: News/919.txt            \n",
            "  inflating: News/92.txt             \n",
            "  inflating: News/920.txt            \n",
            "  inflating: News/921.txt            \n",
            "  inflating: News/922.txt            \n",
            "  inflating: News/923.txt            \n",
            "  inflating: News/924.txt            \n",
            "  inflating: News/925.txt            \n",
            "  inflating: News/926.txt            \n",
            "  inflating: News/927.txt            \n",
            "  inflating: News/928.txt            \n",
            "  inflating: News/929.txt            \n",
            "  inflating: News/93.txt             \n",
            "  inflating: News/930.txt            \n",
            "  inflating: News/931.txt            \n",
            "  inflating: News/932.txt            \n",
            "  inflating: News/933.txt            \n",
            "  inflating: News/934.txt            \n",
            "  inflating: News/935.txt            \n",
            "  inflating: News/936.txt            \n",
            "  inflating: News/937.txt            \n",
            "  inflating: News/938.txt            \n",
            "  inflating: News/939.txt            \n",
            "  inflating: News/94.txt             \n",
            "  inflating: News/940.txt            \n",
            "  inflating: News/941.txt            \n",
            "  inflating: News/942.txt            \n",
            "  inflating: News/943.txt            \n",
            "  inflating: News/944.txt            \n",
            "  inflating: News/945.txt            \n",
            "  inflating: News/946.txt            \n",
            "  inflating: News/947.txt            \n",
            "  inflating: News/948.txt            \n",
            "  inflating: News/949.txt            \n",
            "  inflating: News/95.txt             \n",
            "  inflating: News/950.txt            \n",
            "  inflating: News/951.txt            \n",
            "  inflating: News/952.txt            \n",
            "  inflating: News/953.txt            \n",
            "  inflating: News/954.txt            \n",
            "  inflating: News/955.txt            \n",
            "  inflating: News/956.txt            \n",
            "  inflating: News/957.txt            \n",
            "  inflating: News/958.txt            \n",
            "  inflating: News/959.txt            \n",
            "  inflating: News/96.txt             \n",
            "  inflating: News/960.txt            \n",
            "  inflating: News/961.txt            \n",
            "  inflating: News/962.txt            \n",
            "  inflating: News/963.txt            \n",
            "  inflating: News/964.txt            \n",
            "  inflating: News/965.txt            \n",
            "  inflating: News/966.txt            \n",
            "  inflating: News/967.txt            \n",
            "  inflating: News/968.txt            \n",
            "  inflating: News/969.txt            \n",
            "  inflating: News/97.txt             \n",
            "  inflating: News/970.txt            \n",
            "  inflating: News/971.txt            \n",
            "  inflating: News/972.txt            \n",
            "  inflating: News/973.txt            \n",
            "  inflating: News/974.txt            \n",
            "  inflating: News/975.txt            \n",
            "  inflating: News/976.txt            \n",
            "  inflating: News/977.txt            \n",
            "  inflating: News/978.txt            \n",
            "  inflating: News/979.txt            \n",
            "  inflating: News/98.txt             \n",
            "  inflating: News/980.txt            \n",
            "  inflating: News/981.txt            \n",
            "  inflating: News/982.txt            \n",
            "  inflating: News/983.txt            \n",
            "  inflating: News/984.txt            \n",
            "  inflating: News/985.txt            \n",
            "  inflating: News/986.txt            \n",
            "  inflating: News/987.txt            \n",
            "  inflating: News/988.txt            \n",
            "  inflating: News/989.txt            \n",
            "  inflating: News/99.txt             \n",
            "  inflating: News/990.txt            \n",
            "  inflating: News/991.txt            \n",
            "  inflating: News/992.txt            \n",
            "  inflating: News/993.txt            \n",
            "  inflating: News/994.txt            \n",
            "  inflating: News/995.txt            \n",
            "  inflating: News/996.txt            \n",
            "  inflating: News/997.txt            \n",
            "  inflating: News/998.txt            \n",
            "  inflating: News/999.txt            \n"
          ],
          "name": "stdout"
        }
      ]
    },
    {
      "cell_type": "code",
      "metadata": {
        "id": "cUW4ahJe9XQc",
        "colab_type": "code",
        "colab": {}
      },
      "source": [
        "import os\n",
        "f = [open(r\"News/\"+i, encoding = 'utf-8') for i in os.listdir(r\"News/\")]\n",
        "documents = []\n",
        "for i in range(len(f)):\n",
        "  try:\n",
        "    documents.append(f[i].read())\n",
        "  except:\n",
        "    print(\"Extraction of\",f[i],\"failed.\")"
      ],
      "execution_count": 0,
      "outputs": []
    },
    {
      "cell_type": "markdown",
      "metadata": {
        "id": "NI5OsXpx3zuR",
        "colab_type": "text"
      },
      "source": [
        "## Importing packages"
      ]
    },
    {
      "cell_type": "code",
      "metadata": {
        "id": "QV274JjN-gKW",
        "colab_type": "code",
        "outputId": "fd473131-cd79-4222-9949-53435f3458a0",
        "colab": {
          "base_uri": "https://localhost:8080/",
          "height": 0
        }
      },
      "source": [
        "%%time\n",
        "import nltk\n",
        "nltk.download(\"all\")\n",
        "import TextPreprocessing\n",
        "from nltk.tokenize import word_tokenize, sent_tokenize\n",
        "from sklearn.feature_extraction.text import TfidfVectorizer\n",
        "from sklearn.decomposition import TruncatedSVD, NMF, PCA\n",
        "import pandas as pd\n",
        "import numpy as np\n",
        "import matplotlib.pyplot as plt\n",
        "import umap\n",
        "import scipy.cluster.hierarchy as sch\n",
        "from sklearn.cluster import KMeans, DBSCAN, AgglomerativeClustering\n",
        "from sklearn.model_selection import GridSearchCV\n",
        "from yellowbrick.cluster import KElbowVisualizer\n",
        "from sklearn.neighbors import NearestNeighbors\n",
        "from sklearn.metrics import silhouette_score, make_scorer"
      ],
      "execution_count": 3,
      "outputs": [
        {
          "output_type": "stream",
          "text": [
            "[nltk_data] Downloading collection 'all'\n",
            "[nltk_data]    | \n",
            "[nltk_data]    | Downloading package abc to /root/nltk_data...\n",
            "[nltk_data]    |   Unzipping corpora/abc.zip.\n",
            "[nltk_data]    | Downloading package alpino to /root/nltk_data...\n",
            "[nltk_data]    |   Unzipping corpora/alpino.zip.\n",
            "[nltk_data]    | Downloading package biocreative_ppi to\n",
            "[nltk_data]    |     /root/nltk_data...\n",
            "[nltk_data]    |   Unzipping corpora/biocreative_ppi.zip.\n",
            "[nltk_data]    | Downloading package brown to /root/nltk_data...\n",
            "[nltk_data]    |   Unzipping corpora/brown.zip.\n",
            "[nltk_data]    | Downloading package brown_tei to /root/nltk_data...\n",
            "[nltk_data]    |   Unzipping corpora/brown_tei.zip.\n",
            "[nltk_data]    | Downloading package cess_cat to /root/nltk_data...\n",
            "[nltk_data]    |   Unzipping corpora/cess_cat.zip.\n",
            "[nltk_data]    | Downloading package cess_esp to /root/nltk_data...\n",
            "[nltk_data]    |   Unzipping corpora/cess_esp.zip.\n",
            "[nltk_data]    | Downloading package chat80 to /root/nltk_data...\n",
            "[nltk_data]    |   Unzipping corpora/chat80.zip.\n",
            "[nltk_data]    | Downloading package city_database to\n",
            "[nltk_data]    |     /root/nltk_data...\n",
            "[nltk_data]    |   Unzipping corpora/city_database.zip.\n",
            "[nltk_data]    | Downloading package cmudict to /root/nltk_data...\n",
            "[nltk_data]    |   Unzipping corpora/cmudict.zip.\n",
            "[nltk_data]    | Downloading package comparative_sentences to\n",
            "[nltk_data]    |     /root/nltk_data...\n",
            "[nltk_data]    |   Unzipping corpora/comparative_sentences.zip.\n",
            "[nltk_data]    | Downloading package comtrans to /root/nltk_data...\n",
            "[nltk_data]    | Downloading package conll2000 to /root/nltk_data...\n",
            "[nltk_data]    |   Unzipping corpora/conll2000.zip.\n",
            "[nltk_data]    | Downloading package conll2002 to /root/nltk_data...\n",
            "[nltk_data]    |   Unzipping corpora/conll2002.zip.\n",
            "[nltk_data]    | Downloading package conll2007 to /root/nltk_data...\n",
            "[nltk_data]    | Downloading package crubadan to /root/nltk_data...\n",
            "[nltk_data]    |   Unzipping corpora/crubadan.zip.\n",
            "[nltk_data]    | Downloading package dependency_treebank to\n",
            "[nltk_data]    |     /root/nltk_data...\n",
            "[nltk_data]    |   Unzipping corpora/dependency_treebank.zip.\n",
            "[nltk_data]    | Downloading package dolch to /root/nltk_data...\n",
            "[nltk_data]    |   Unzipping corpora/dolch.zip.\n",
            "[nltk_data]    | Downloading package europarl_raw to\n",
            "[nltk_data]    |     /root/nltk_data...\n",
            "[nltk_data]    |   Unzipping corpora/europarl_raw.zip.\n",
            "[nltk_data]    | Downloading package floresta to /root/nltk_data...\n",
            "[nltk_data]    |   Unzipping corpora/floresta.zip.\n",
            "[nltk_data]    | Downloading package framenet_v15 to\n",
            "[nltk_data]    |     /root/nltk_data...\n",
            "[nltk_data]    |   Unzipping corpora/framenet_v15.zip.\n",
            "[nltk_data]    | Downloading package framenet_v17 to\n",
            "[nltk_data]    |     /root/nltk_data...\n",
            "[nltk_data]    |   Unzipping corpora/framenet_v17.zip.\n",
            "[nltk_data]    | Downloading package gazetteers to /root/nltk_data...\n",
            "[nltk_data]    |   Unzipping corpora/gazetteers.zip.\n",
            "[nltk_data]    | Downloading package genesis to /root/nltk_data...\n",
            "[nltk_data]    |   Unzipping corpora/genesis.zip.\n",
            "[nltk_data]    | Downloading package gutenberg to /root/nltk_data...\n",
            "[nltk_data]    |   Unzipping corpora/gutenberg.zip.\n",
            "[nltk_data]    | Downloading package ieer to /root/nltk_data...\n",
            "[nltk_data]    |   Unzipping corpora/ieer.zip.\n",
            "[nltk_data]    | Downloading package inaugural to /root/nltk_data...\n",
            "[nltk_data]    |   Unzipping corpora/inaugural.zip.\n",
            "[nltk_data]    | Downloading package indian to /root/nltk_data...\n",
            "[nltk_data]    |   Unzipping corpora/indian.zip.\n",
            "[nltk_data]    | Downloading package jeita to /root/nltk_data...\n",
            "[nltk_data]    | Downloading package kimmo to /root/nltk_data...\n",
            "[nltk_data]    |   Unzipping corpora/kimmo.zip.\n",
            "[nltk_data]    | Downloading package knbc to /root/nltk_data...\n",
            "[nltk_data]    | Downloading package lin_thesaurus to\n",
            "[nltk_data]    |     /root/nltk_data...\n",
            "[nltk_data]    |   Unzipping corpora/lin_thesaurus.zip.\n",
            "[nltk_data]    | Downloading package mac_morpho to /root/nltk_data...\n",
            "[nltk_data]    |   Unzipping corpora/mac_morpho.zip.\n",
            "[nltk_data]    | Downloading package machado to /root/nltk_data...\n",
            "[nltk_data]    | Downloading package masc_tagged to /root/nltk_data...\n",
            "[nltk_data]    | Downloading package moses_sample to\n",
            "[nltk_data]    |     /root/nltk_data...\n",
            "[nltk_data]    |   Unzipping models/moses_sample.zip.\n",
            "[nltk_data]    | Downloading package movie_reviews to\n",
            "[nltk_data]    |     /root/nltk_data...\n",
            "[nltk_data]    |   Unzipping corpora/movie_reviews.zip.\n",
            "[nltk_data]    | Downloading package names to /root/nltk_data...\n",
            "[nltk_data]    |   Unzipping corpora/names.zip.\n",
            "[nltk_data]    | Downloading package nombank.1.0 to /root/nltk_data...\n",
            "[nltk_data]    | Downloading package nps_chat to /root/nltk_data...\n",
            "[nltk_data]    |   Unzipping corpora/nps_chat.zip.\n",
            "[nltk_data]    | Downloading package omw to /root/nltk_data...\n",
            "[nltk_data]    |   Unzipping corpora/omw.zip.\n",
            "[nltk_data]    | Downloading package opinion_lexicon to\n",
            "[nltk_data]    |     /root/nltk_data...\n",
            "[nltk_data]    |   Unzipping corpora/opinion_lexicon.zip.\n",
            "[nltk_data]    | Downloading package paradigms to /root/nltk_data...\n",
            "[nltk_data]    |   Unzipping corpora/paradigms.zip.\n",
            "[nltk_data]    | Downloading package pil to /root/nltk_data...\n",
            "[nltk_data]    |   Unzipping corpora/pil.zip.\n",
            "[nltk_data]    | Downloading package pl196x to /root/nltk_data...\n",
            "[nltk_data]    |   Unzipping corpora/pl196x.zip.\n",
            "[nltk_data]    | Downloading package ppattach to /root/nltk_data...\n",
            "[nltk_data]    |   Unzipping corpora/ppattach.zip.\n",
            "[nltk_data]    | Downloading package problem_reports to\n",
            "[nltk_data]    |     /root/nltk_data...\n",
            "[nltk_data]    |   Unzipping corpora/problem_reports.zip.\n",
            "[nltk_data]    | Downloading package propbank to /root/nltk_data...\n",
            "[nltk_data]    | Downloading package ptb to /root/nltk_data...\n",
            "[nltk_data]    |   Unzipping corpora/ptb.zip.\n",
            "[nltk_data]    | Downloading package product_reviews_1 to\n",
            "[nltk_data]    |     /root/nltk_data...\n",
            "[nltk_data]    |   Unzipping corpora/product_reviews_1.zip.\n",
            "[nltk_data]    | Downloading package product_reviews_2 to\n",
            "[nltk_data]    |     /root/nltk_data...\n",
            "[nltk_data]    |   Unzipping corpora/product_reviews_2.zip.\n",
            "[nltk_data]    | Downloading package pros_cons to /root/nltk_data...\n",
            "[nltk_data]    |   Unzipping corpora/pros_cons.zip.\n",
            "[nltk_data]    | Downloading package qc to /root/nltk_data...\n",
            "[nltk_data]    |   Unzipping corpora/qc.zip.\n",
            "[nltk_data]    | Downloading package reuters to /root/nltk_data...\n",
            "[nltk_data]    | Downloading package rte to /root/nltk_data...\n",
            "[nltk_data]    |   Unzipping corpora/rte.zip.\n",
            "[nltk_data]    | Downloading package semcor to /root/nltk_data...\n",
            "[nltk_data]    | Downloading package senseval to /root/nltk_data...\n",
            "[nltk_data]    |   Unzipping corpora/senseval.zip.\n",
            "[nltk_data]    | Downloading package sentiwordnet to\n",
            "[nltk_data]    |     /root/nltk_data...\n",
            "[nltk_data]    |   Unzipping corpora/sentiwordnet.zip.\n",
            "[nltk_data]    | Downloading package sentence_polarity to\n",
            "[nltk_data]    |     /root/nltk_data...\n",
            "[nltk_data]    |   Unzipping corpora/sentence_polarity.zip.\n",
            "[nltk_data]    | Downloading package shakespeare to /root/nltk_data...\n",
            "[nltk_data]    |   Unzipping corpora/shakespeare.zip.\n",
            "[nltk_data]    | Downloading package sinica_treebank to\n",
            "[nltk_data]    |     /root/nltk_data...\n",
            "[nltk_data]    |   Unzipping corpora/sinica_treebank.zip.\n",
            "[nltk_data]    | Downloading package smultron to /root/nltk_data...\n",
            "[nltk_data]    |   Unzipping corpora/smultron.zip.\n",
            "[nltk_data]    | Downloading package state_union to /root/nltk_data...\n",
            "[nltk_data]    |   Unzipping corpora/state_union.zip.\n",
            "[nltk_data]    | Downloading package stopwords to /root/nltk_data...\n",
            "[nltk_data]    |   Unzipping corpora/stopwords.zip.\n",
            "[nltk_data]    | Downloading package subjectivity to\n",
            "[nltk_data]    |     /root/nltk_data...\n",
            "[nltk_data]    |   Unzipping corpora/subjectivity.zip.\n",
            "[nltk_data]    | Downloading package swadesh to /root/nltk_data...\n",
            "[nltk_data]    |   Unzipping corpora/swadesh.zip.\n",
            "[nltk_data]    | Downloading package switchboard to /root/nltk_data...\n",
            "[nltk_data]    |   Unzipping corpora/switchboard.zip.\n",
            "[nltk_data]    | Downloading package timit to /root/nltk_data...\n",
            "[nltk_data]    |   Unzipping corpora/timit.zip.\n",
            "[nltk_data]    | Downloading package toolbox to /root/nltk_data...\n",
            "[nltk_data]    |   Unzipping corpora/toolbox.zip.\n",
            "[nltk_data]    | Downloading package treebank to /root/nltk_data...\n",
            "[nltk_data]    |   Unzipping corpora/treebank.zip.\n",
            "[nltk_data]    | Downloading package twitter_samples to\n",
            "[nltk_data]    |     /root/nltk_data...\n",
            "[nltk_data]    |   Unzipping corpora/twitter_samples.zip.\n",
            "[nltk_data]    | Downloading package udhr to /root/nltk_data...\n",
            "[nltk_data]    |   Unzipping corpora/udhr.zip.\n",
            "[nltk_data]    | Downloading package udhr2 to /root/nltk_data...\n",
            "[nltk_data]    |   Unzipping corpora/udhr2.zip.\n",
            "[nltk_data]    | Downloading package unicode_samples to\n",
            "[nltk_data]    |     /root/nltk_data...\n",
            "[nltk_data]    |   Unzipping corpora/unicode_samples.zip.\n",
            "[nltk_data]    | Downloading package universal_treebanks_v20 to\n",
            "[nltk_data]    |     /root/nltk_data...\n",
            "[nltk_data]    | Downloading package verbnet to /root/nltk_data...\n",
            "[nltk_data]    |   Unzipping corpora/verbnet.zip.\n",
            "[nltk_data]    | Downloading package verbnet3 to /root/nltk_data...\n",
            "[nltk_data]    |   Unzipping corpora/verbnet3.zip.\n",
            "[nltk_data]    | Downloading package webtext to /root/nltk_data...\n",
            "[nltk_data]    |   Unzipping corpora/webtext.zip.\n",
            "[nltk_data]    | Downloading package wordnet to /root/nltk_data...\n",
            "[nltk_data]    |   Unzipping corpora/wordnet.zip.\n",
            "[nltk_data]    | Downloading package wordnet_ic to /root/nltk_data...\n",
            "[nltk_data]    |   Unzipping corpora/wordnet_ic.zip.\n",
            "[nltk_data]    | Downloading package words to /root/nltk_data...\n",
            "[nltk_data]    |   Unzipping corpora/words.zip.\n",
            "[nltk_data]    | Downloading package ycoe to /root/nltk_data...\n",
            "[nltk_data]    |   Unzipping corpora/ycoe.zip.\n",
            "[nltk_data]    | Downloading package rslp to /root/nltk_data...\n",
            "[nltk_data]    |   Unzipping stemmers/rslp.zip.\n",
            "[nltk_data]    | Downloading package maxent_treebank_pos_tagger to\n",
            "[nltk_data]    |     /root/nltk_data...\n",
            "[nltk_data]    |   Unzipping taggers/maxent_treebank_pos_tagger.zip.\n",
            "[nltk_data]    | Downloading package universal_tagset to\n",
            "[nltk_data]    |     /root/nltk_data...\n",
            "[nltk_data]    |   Unzipping taggers/universal_tagset.zip.\n",
            "[nltk_data]    | Downloading package maxent_ne_chunker to\n",
            "[nltk_data]    |     /root/nltk_data...\n",
            "[nltk_data]    |   Unzipping chunkers/maxent_ne_chunker.zip.\n",
            "[nltk_data]    | Downloading package punkt to /root/nltk_data...\n",
            "[nltk_data]    |   Unzipping tokenizers/punkt.zip.\n",
            "[nltk_data]    | Downloading package book_grammars to\n",
            "[nltk_data]    |     /root/nltk_data...\n",
            "[nltk_data]    |   Unzipping grammars/book_grammars.zip.\n",
            "[nltk_data]    | Downloading package sample_grammars to\n",
            "[nltk_data]    |     /root/nltk_data...\n",
            "[nltk_data]    |   Unzipping grammars/sample_grammars.zip.\n",
            "[nltk_data]    | Downloading package spanish_grammars to\n",
            "[nltk_data]    |     /root/nltk_data...\n",
            "[nltk_data]    |   Unzipping grammars/spanish_grammars.zip.\n",
            "[nltk_data]    | Downloading package basque_grammars to\n",
            "[nltk_data]    |     /root/nltk_data...\n",
            "[nltk_data]    |   Unzipping grammars/basque_grammars.zip.\n",
            "[nltk_data]    | Downloading package large_grammars to\n",
            "[nltk_data]    |     /root/nltk_data...\n",
            "[nltk_data]    |   Unzipping grammars/large_grammars.zip.\n",
            "[nltk_data]    | Downloading package tagsets to /root/nltk_data...\n",
            "[nltk_data]    |   Unzipping help/tagsets.zip.\n",
            "[nltk_data]    | Downloading package snowball_data to\n",
            "[nltk_data]    |     /root/nltk_data...\n",
            "[nltk_data]    | Downloading package bllip_wsj_no_aux to\n",
            "[nltk_data]    |     /root/nltk_data...\n",
            "[nltk_data]    |   Unzipping models/bllip_wsj_no_aux.zip.\n",
            "[nltk_data]    | Downloading package word2vec_sample to\n",
            "[nltk_data]    |     /root/nltk_data...\n",
            "[nltk_data]    |   Unzipping models/word2vec_sample.zip.\n",
            "[nltk_data]    | Downloading package panlex_swadesh to\n",
            "[nltk_data]    |     /root/nltk_data...\n",
            "[nltk_data]    | Downloading package mte_teip5 to /root/nltk_data...\n",
            "[nltk_data]    |   Unzipping corpora/mte_teip5.zip.\n",
            "[nltk_data]    | Downloading package averaged_perceptron_tagger to\n",
            "[nltk_data]    |     /root/nltk_data...\n",
            "[nltk_data]    |   Unzipping taggers/averaged_perceptron_tagger.zip.\n",
            "[nltk_data]    | Downloading package averaged_perceptron_tagger_ru to\n",
            "[nltk_data]    |     /root/nltk_data...\n",
            "[nltk_data]    |   Unzipping\n",
            "[nltk_data]    |       taggers/averaged_perceptron_tagger_ru.zip.\n",
            "[nltk_data]    | Downloading package perluniprops to\n",
            "[nltk_data]    |     /root/nltk_data...\n",
            "[nltk_data]    |   Unzipping misc/perluniprops.zip.\n",
            "[nltk_data]    | Downloading package nonbreaking_prefixes to\n",
            "[nltk_data]    |     /root/nltk_data...\n",
            "[nltk_data]    |   Unzipping corpora/nonbreaking_prefixes.zip.\n",
            "[nltk_data]    | Downloading package vader_lexicon to\n",
            "[nltk_data]    |     /root/nltk_data...\n",
            "[nltk_data]    | Downloading package porter_test to /root/nltk_data...\n",
            "[nltk_data]    |   Unzipping stemmers/porter_test.zip.\n",
            "[nltk_data]    | Downloading package wmt15_eval to /root/nltk_data...\n",
            "[nltk_data]    |   Unzipping models/wmt15_eval.zip.\n",
            "[nltk_data]    | Downloading package mwa_ppdb to /root/nltk_data...\n",
            "[nltk_data]    |   Unzipping misc/mwa_ppdb.zip.\n",
            "[nltk_data]    | \n",
            "[nltk_data]  Done downloading collection all\n"
          ],
          "name": "stdout"
        },
        {
          "output_type": "stream",
          "text": [
            "/usr/local/lib/python3.6/dist-packages/sklearn/utils/deprecation.py:144: FutureWarning: The sklearn.metrics.classification module is  deprecated in version 0.22 and will be removed in version 0.24. The corresponding classes / functions should instead be imported from sklearn.metrics. Anything that cannot be imported from sklearn.metrics is now part of the private API.\n",
            "  warnings.warn(message, FutureWarning)\n"
          ],
          "name": "stderr"
        }
      ]
    },
    {
      "cell_type": "markdown",
      "metadata": {
        "id": "TS2JdZze3684",
        "colab_type": "text"
      },
      "source": [
        "## Creating Vector Space"
      ]
    },
    {
      "cell_type": "code",
      "metadata": {
        "id": "mVUu1FdyMuxU",
        "colab_type": "code",
        "outputId": "23fffddd-14d8-447b-9e2c-f5bd3a8503ba",
        "colab": {
          "base_uri": "https://localhost:8080/",
          "height": 0
        }
      },
      "source": [
        "%%time\n",
        "cleaned_documents = list(map(TextPreprocessing.clean,documents))\n",
        "vectorizer = TfidfVectorizer(smooth_idf = True)\n",
        "X = vectorizer.fit_transform(cleaned_documents).toarray()\n",
        "X.shape"
      ],
      "execution_count": 4,
      "outputs": [
        {
          "output_type": "stream",
          "text": [
            "CPU times: user 14.8 s, sys: 112 ms, total: 14.9 s\n",
            "Wall time: 14.9 s\n"
          ],
          "name": "stdout"
        }
      ]
    },
    {
      "cell_type": "markdown",
      "metadata": {
        "id": "lVYJGuNH7cIy",
        "colab_type": "text"
      },
      "source": [
        "# Question 1\n",
        "You have recently been hired at an upcoming news agency as a Machine Learning engineer and they require your help. They have provided you with a zip file (News.zip) which contains over 2000 news articles across various topics like sports, politics, business etc. However, you have not been provided with the number of topics since the agency never kept a track. They need you to effectively find out the various domains of news so they can segment their news articles into the underlying topics and create separate archives for the different categories. They also want you to -\n",
        "\n",
        "* Find out the top 5 relevant terms in each category so they can use these to quickly segment other documents \n",
        "* Obtain a mapping of which document belongs to which topic \n"
      ]
    },
    {
      "cell_type": "markdown",
      "metadata": {
        "id": "LdixO6qI4vjv",
        "colab_type": "text"
      },
      "source": [
        "## Visualizing Clusters - 5 topics"
      ]
    },
    {
      "cell_type": "markdown",
      "metadata": {
        "id": "YBlNPAsU5BVU",
        "colab_type": "text"
      },
      "source": [
        "### UMAP - 5 clusters"
      ]
    },
    {
      "cell_type": "code",
      "metadata": {
        "id": "EEoSH7k_npY6",
        "colab_type": "code",
        "outputId": "c778cc64-c9e7-46d1-aac8-1fb7289fc38f",
        "colab": {
          "base_uri": "https://localhost:8080/"
        }
      },
      "source": [
        "%%time\n",
        "embedding = umap.UMAP(n_neighbors=200, min_dist=0.5, random_state=12, metric = \"cosine\").fit_transform(X)\n",
        "plt.figure(figsize=(7,5))\n",
        "plt.title(\"Cluster Shape\")\n",
        "scatter = plt.scatter(embedding[:, 0], embedding[:, 1], c = [(i+1) for i in range(len(X))],s = 10, edgecolor='none')\n",
        "plt.show()"
      ],
      "execution_count": 0,
      "outputs": [
        {
          "output_type": "display_data",
          "data": {
            "image/png": "[encoded data removed]",
            "text/plain": [
              "<Figure size 504x360 with 1 Axes>"
            ]
          },
          "metadata": {
            "tags": []
          }
        },
        {
          "output_type": "stream",
          "text": [
            "CPU times: user 2min 28s, sys: 690 ms, total: 2min 29s\n",
            "Wall time: 2min 30s\n"
          ],
          "name": "stdout"
        }
      ]
    },
    {
      "cell_type": "markdown",
      "metadata": {
        "id": "zTSnd_gB5pd1",
        "colab_type": "text"
      },
      "source": [
        "### KMeans - 6 clusters"
      ]
    },
    {
      "cell_type": "markdown",
      "metadata": {
        "id": "Eq3bdled7jHO",
        "colab_type": "text"
      },
      "source": [
        "#### Manually finding WCSS and Silhouette Score"
      ]
    },
    {
      "cell_type": "markdown",
      "metadata": {
        "id": "h3Mb9kDh7-1j",
        "colab_type": "text"
      },
      "source": [
        "##### WCSS"
      ]
    },
    {
      "cell_type": "code",
      "metadata": {
        "id": "yfJEf8XD-n28",
        "colab_type": "code",
        "outputId": "f8b32a2b-bb61-44a1-ed84-3cd80311fbf2",
        "colab": {
          "base_uri": "https://localhost:8080/"
        }
      },
      "source": [
        "%%time\n",
        "max_k = 10\n",
        "sil_scores = []\n",
        "wcss = []\n",
        "for k in range(2,max_k+1):\n",
        "    model = KMeans(n_clusters=k,n_jobs=-1,init='k-means++', max_iter=300, n_init=10, random_state=0)\n",
        "    model.fit(X)\n",
        "    sil_scores.append(silhouette_score(X,model.labels_,metric='cosine'))\n",
        "    wcss.append(model.inertia_)"
      ],
      "execution_count": 0,
      "outputs": [
        {
          "output_type": "stream",
          "text": [
            "CPU times: user 1min 18s, sys: 7.36 s, total: 1min 26s\n",
            "Wall time: 17min 14s\n"
          ],
          "name": "stdout"
        }
      ]
    },
    {
      "cell_type": "code",
      "metadata": {
        "id": "lVeWQ8heri-9",
        "colab_type": "code",
        "outputId": "b7633bd6-6cfb-4ddc-ad17-5fd26495a872",
        "colab": {
          "base_uri": "https://localhost:8080/"
        }
      },
      "source": [
        "plt.plot([i for i in range(2,max_k+1)],wcss)\n",
        "plt.title(\"K vs WCSS\")"
      ],
      "execution_count": 0,
      "outputs": [
        {
          "output_type": "execute_result",
          "data": {
            "text/plain": [
              "Text(0.5, 1.0, 'K vs WCSS')"
            ]
          },
          "metadata": {
            "tags": []
          },
          "execution_count": 10
        },
        {
          "output_type": "display_data",
          "data": {
            "image/png": "[encoded data removed]",
            "text/plain": [
              "<Figure size 576x396 with 1 Axes>"
            ]
          },
          "metadata": {
            "tags": []
          }
        }
      ]
    },
    {
      "cell_type": "markdown",
      "metadata": {
        "id": "19KLyk9I8GIr",
        "colab_type": "text"
      },
      "source": [
        "##### Silhouette Score"
      ]
    },
    {
      "cell_type": "code",
      "metadata": {
        "id": "hvvBM1z8yHOx",
        "colab_type": "code",
        "outputId": "253ec18a-1600-4fca-ddb3-9c85367bfcc5",
        "colab": {
          "base_uri": "https://localhost:8080/"
        }
      },
      "source": [
        "plt.plot([i for i in range(2,max_k+1)],sil_scores)\n",
        "plt.title(\"K vs Silhouette Scores\")"
      ],
      "execution_count": 0,
      "outputs": [
        {
          "output_type": "execute_result",
          "data": {
            "text/plain": [
              "Text(0.5, 1.0, 'K vs Silhouette Scores')"
            ]
          },
          "metadata": {
            "tags": []
          },
          "execution_count": 11
        },
        {
          "output_type": "display_data",
          "data": {
            "image/png": "[encoded data removed]",
            "text/plain": [
              "<Figure size 576x396 with 1 Axes>"
            ]
          },
          "metadata": {
            "tags": []
          }
        }
      ]
    },
    {
      "cell_type": "markdown",
      "metadata": {
        "id": "hK_DAEvI7v6Z",
        "colab_type": "text"
      },
      "source": [
        "#### Using libraries to find WCSS and Silhouette Scores"
      ]
    },
    {
      "cell_type": "markdown",
      "metadata": {
        "id": "nSFiqxXpUkKi",
        "colab_type": "text"
      },
      "source": [
        "##### WCSS"
      ]
    },
    {
      "cell_type": "code",
      "metadata": {
        "id": "iVP834c_zTbb",
        "colab_type": "code",
        "outputId": "fb51f31d-da8b-48bf-d709-850fce352500",
        "colab": {
          "base_uri": "https://localhost:8080/"
        }
      },
      "source": [
        "'''%%time\n",
        "model = KMeans(n_jobs=-1,init='k-means++', max_iter=300, n_init=10, random_state=0)\n",
        "visualizer = KElbowVisualizer(model, k=(2,10))        \n",
        "visualizer.fit(X)'''    "
      ],
      "execution_count": 0,
      "outputs": [
        {
          "output_type": "stream",
          "text": [
            "CPU times: user 8.38 s, sys: 3.71 s, total: 12.1 s\n",
            "Wall time: 10min 5s\n"
          ],
          "name": "stdout"
        },
        {
          "output_type": "display_data",
          "data": {
            "image/png": "[encoded data removed]",
            "text/plain": [
              "<Figure size 576x396 with 2 Axes>"
            ]
          },
          "metadata": {
            "tags": []
          }
        }
      ]
    },
    {
      "cell_type": "markdown",
      "metadata": {
        "id": "YSa6e1H7UaK4",
        "colab_type": "text"
      },
      "source": [
        "##### Silhouette Score"
      ]
    },
    {
      "cell_type": "code",
      "metadata": {
        "id": "mgudFgvV0B4K",
        "colab_type": "code",
        "outputId": "44dc4332-c774-4415-a2c4-c330484f72a3",
        "colab": {
          "base_uri": "https://localhost:8080/"
        }
      },
      "source": [
        "'''%%time\n",
        "model = KMeans(n_jobs=-1,init='k-means++', max_iter=300, n_init=10, random_state=0)\n",
        "visualizer = KElbowVisualizer(model, k=(2,10), metric = 'silhouette')\n",
        "visualizer.fit(X)'''"
      ],
      "execution_count": 0,
      "outputs": [
        {
          "output_type": "stream",
          "text": [
            "CPU times: user 1min 5s, sys: 5.29 s, total: 1min 10s\n",
            "Wall time: 10min 44s\n"
          ],
          "name": "stdout"
        },
        {
          "output_type": "display_data",
          "data": {
            "image/png": "[encoded data removed]",
            "text/plain": [
              "<Figure size 576x396 with 2 Axes>"
            ]
          },
          "metadata": {
            "tags": []
          }
        }
      ]
    },
    {
      "cell_type": "markdown",
      "metadata": {
        "id": "fvXgwQvuVH_I",
        "colab_type": "text"
      },
      "source": [
        "### Hierarchical Clustering - 6 clusters"
      ]
    },
    {
      "cell_type": "code",
      "metadata": {
        "id": "AsEs5VUqVQ_o",
        "colab_type": "code",
        "outputId": "edc554b5-644b-47a0-fbe6-b9ad2a16ca62",
        "colab": {
          "base_uri": "https://localhost:8080/"
        }
      },
      "source": [
        "%%time\n",
        "dendrogram = sch.dendrogram(sch.linkage(X,method = \"ward\"))"
      ],
      "execution_count": 0,
      "outputs": [
        {
          "output_type": "stream",
          "text": [
            "CPU times: user 1min, sys: 19.8 ms, total: 1min\n",
            "Wall time: 1min\n"
          ],
          "name": "stdout"
        },
        {
          "output_type": "display_data",
          "data": {
            "image/png": "[encoded data removed]",
            "text/plain": [
              "<Figure size 576x396 with 1 Axes>"
            ]
          },
          "metadata": {
            "tags": []
          }
        }
      ]
    },
    {
      "cell_type": "markdown",
      "metadata": {
        "id": "n802DF0W90ik",
        "colab_type": "text"
      },
      "source": [
        "### DBSCAN - 6 clusters"
      ]
    },
    {
      "cell_type": "markdown",
      "metadata": {
        "id": "E0WrxGtmljMc",
        "colab_type": "text"
      },
      "source": [
        "#### Finding Epsilon: [0.5, 1] - 0.8 best curve"
      ]
    },
    {
      "cell_type": "code",
      "metadata": {
        "id": "d4FozKdy92qZ",
        "colab_type": "code",
        "outputId": "b3d9e388-e4f7-46ef-8b8b-70b176cab52b",
        "colab": {
          "base_uri": "https://localhost:8080/"
        }
      },
      "source": [
        "%%time\n",
        "neigh = NearestNeighbors(n_neighbors=5)\n",
        "nbrs = neigh.fit(X)\n",
        "distances, indices = nbrs.kneighbors(X)\n",
        "distances = np.sort(distances, axis=0)\n",
        "distances = distances[:,1]\n",
        "plt.plot(distances)"
      ],
      "execution_count": 0,
      "outputs": [
        {
          "output_type": "stream",
          "text": [
            "CPU times: user 4min 25s, sys: 55.5 ms, total: 4min 25s\n",
            "Wall time: 4min 25s\n"
          ],
          "name": "stdout"
        },
        {
          "output_type": "display_data",
          "data": {
            "image/png": "[encoded data removed]",
            "text/plain": [
              "<Figure size 576x396 with 1 Axes>"
            ]
          },
          "metadata": {
            "tags": []
          }
        }
      ]
    },
    {
      "cell_type": "markdown",
      "metadata": {
        "id": "IGr0I8sKlnDM",
        "colab_type": "text"
      },
      "source": [
        "#### Manually: eps = 0.8, min_samples = 23, 6 clusters"
      ]
    },
    {
      "cell_type": "code",
      "metadata": {
        "id": "hwaaMmm4JnnL",
        "colab_type": "code",
        "outputId": "f89d3d72-39e8-4416-cb7d-a5c5c70bbbcb",
        "colab": {
          "base_uri": "https://localhost:8080/"
        }
      },
      "source": [
        "%%time\n",
        "Points = 50\n",
        "sil_scores = []\n",
        "clusters = []\n",
        "samples = []\n",
        "for minPts in range(3,Points+1):\n",
        "    print(minPts, end = \" \")\n",
        "    samples.append(minPts)\n",
        "    model = DBSCAN(eps = 0.8, min_samples = minPts, metric = \"cosine\", n_jobs = -1)\n",
        "    model.fit(X)\n",
        "    classes = model.labels_\n",
        "    clusters.append(len(set(classes[classes!=-1])))\n",
        "    if clusters[-1] < 2:\n",
        "      sil_scores.append(-1)\n",
        "    else:\n",
        "      sil_scores.append(silhouette_score(X,model.labels_,metric='cosine'))"
      ],
      "execution_count": 0,
      "outputs": [
        {
          "output_type": "stream",
          "text": [
            "3 4 5 6 7 8 9 10 11 12 13 14 15 16 17 18 19 20 21 22 23 24 25 26 27 28 29 30 31 32 33 34 35 36 37 38 39 40 41 42 43 44 45 46 47 48 49 50 CPU times: user 17min 57s, sys: 30.6 s, total: 18min 27s\n",
            "Wall time: 9min 35s\n"
          ],
          "name": "stdout"
        }
      ]
    },
    {
      "cell_type": "code",
      "metadata": {
        "id": "6JxP9kxylFck",
        "colab_type": "code",
        "outputId": "cae12344-c204-44bd-c588-7eaf2af2ddbe",
        "colab": {
          "base_uri": "https://localhost:8080/"
        }
      },
      "source": [
        "max_index = sil_scores.index(max(sil_scores))\n",
        "clusters[max_index], samples[max_index]"
      ],
      "execution_count": 0,
      "outputs": [
        {
          "output_type": "execute_result",
          "data": {
            "text/plain": [
              "(6, 23)"
            ]
          },
          "metadata": {
            "tags": []
          },
          "execution_count": 31
        }
      ]
    },
    {
      "cell_type": "code",
      "metadata": {
        "id": "Rw0fI5gij6C1",
        "colab_type": "code",
        "outputId": "48d39314-e67f-4d60-a651-f3a90b4a391c",
        "colab": {
          "base_uri": "https://localhost:8080/"
        }
      },
      "source": [
        "plt.plot(samples,sil_scores)\n",
        "plt.title(\"MinPts vs Silhouette Scores\")"
      ],
      "execution_count": 0,
      "outputs": [
        {
          "output_type": "execute_result",
          "data": {
            "text/plain": [
              "Text(0.5, 1.0, 'MinPts vs Silhouette Scores')"
            ]
          },
          "metadata": {
            "tags": []
          },
          "execution_count": 32
        },
        {
          "output_type": "display_data",
          "data": {
            "image/png": "[encoded data removed]",
            "text/plain": [
              "<Figure size 576x396 with 1 Axes>"
            ]
          },
          "metadata": {
            "tags": []
          }
        }
      ]
    },
    {
      "cell_type": "markdown",
      "metadata": {
        "id": "JAOL7DJUsrbO",
        "colab_type": "text"
      },
      "source": [
        "#### GridSearch: eps = 0.7, min_samples = 5, 42 clusters"
      ]
    },
    {
      "cell_type": "code",
      "metadata": {
        "id": "TrgAyBW4pgmr",
        "colab_type": "code",
        "outputId": "f1109ea2-56cf-4397-f1f2-f7870d9cb539",
        "colab": {
          "base_uri": "https://localhost:8080/"
        }
      },
      "source": [
        "%%time\n",
        "model = DBSCAN(metric = \"cosine\", n_jobs = -1)\n",
        "parameters = {\"eps\":[0.6,0.7,0.8], \"min_samples\":list(range(5,40))}\n",
        "\n",
        "def scorer(model, X):\n",
        "  classes = model.labels_\n",
        "  if len(set(classes)) < 2:\n",
        "    return -1\n",
        "  return silhouette_score(X,model.labels_, metric = \"cosine\")\n",
        "\n",
        "grid = GridSearchCV(estimator=model,param_grid=parameters,scoring=scorer,cv=[(slice(None), slice(None))],n_jobs=-1)\n",
        "grid.fit(X)"
      ],
      "execution_count": 0,
      "outputs": [
        {
          "output_type": "stream",
          "text": [
            "CPU times: user 15.7 s, sys: 979 ms, total: 16.7 s\n",
            "Wall time: 19min 26s\n"
          ],
          "name": "stdout"
        }
      ]
    },
    {
      "cell_type": "code",
      "metadata": {
        "id": "l5hzTBDmuU-b",
        "colab_type": "code",
        "outputId": "0ccb1f66-8c72-4838-8e7c-e769b4f1586e",
        "colab": {
          "base_uri": "https://localhost:8080/"
        }
      },
      "source": [
        "grid.best_params_"
      ],
      "execution_count": 0,
      "outputs": [
        {
          "output_type": "execute_result",
          "data": {
            "text/plain": [
              "{'eps': 0.7, 'min_samples': 5}"
            ]
          },
          "metadata": {
            "tags": []
          },
          "execution_count": 34
        }
      ]
    },
    {
      "cell_type": "code",
      "metadata": {
        "id": "TxYEUmxiNqu0",
        "colab_type": "code",
        "outputId": "20f116c4-2ddf-49eb-90b0-3f64f5cf49c2",
        "colab": {
          "base_uri": "https://localhost:8080/"
        }
      },
      "source": [
        "%%time\n",
        "dbscan = DBSCAN(eps = 0.7, min_samples = 5, metric = \"cosine\",n_jobs = -1)\n",
        "dbscan.fit(X)\n",
        "classes = dbscan.labels_\n",
        "print(len(set(classes[classes!=-1])))"
      ],
      "execution_count": 0,
      "outputs": [
        {
          "output_type": "stream",
          "text": [
            "42\n",
            "CPU times: user 15 s, sys: 637 ms, total: 15.6 s\n",
            "Wall time: 8.04 s\n"
          ],
          "name": "stdout"
        }
      ]
    },
    {
      "cell_type": "markdown",
      "metadata": {
        "id": "8nHrzheTCwfB",
        "colab_type": "text"
      },
      "source": [
        "## Finding Topics"
      ]
    },
    {
      "cell_type": "code",
      "metadata": {
        "id": "72Gjudvr9KwA",
        "colab_type": "code",
        "colab": {}
      },
      "source": [
        "k = 5\n",
        "classes = [\"Topic {}\".format(i+1) for i in range(k)]\n",
        "\n",
        "def LSA(k, X):\n",
        "    vectorizer = TfidfVectorizer(smooth_idf=True)\n",
        "    X_transformed = vectorizer.fit_transform(X)\n",
        "    svd = TruncatedSVD(n_components=k, algorithm='randomized', n_iter=500, random_state=122)\n",
        "    lsa = svd.fit_transform(X_transformed) \n",
        "    document_topic_matrix = pd.DataFrame(lsa,columns=classes, index = X)\n",
        "    dic = vectorizer.get_feature_names()\n",
        "    term_topic_matrix = pd.DataFrame(svd.components_, index = classes, columns = (dic)).T\n",
        "    return lsa, document_topic_matrix, term_topic_matrix\n",
        "\n",
        "def NMFFunction(k, X):\n",
        "    vectorizer = TfidfVectorizer(smooth_idf=True)\n",
        "    X_transformed = vectorizer.fit_transform(X)\n",
        "    model = NMF(n_components=k, random_state=122, init='nndsvd', max_iter = 500)\n",
        "    topicmodel = model.fit_transform(X_transformed) \n",
        "    document_topic_matrix = pd.DataFrame(topicmodel,columns=classes, index = X)\n",
        "    dic = vectorizer.get_feature_names()\n",
        "    term_topic_matrix = pd.DataFrame(model.components_, index = classes, columns = (dic)).T\n",
        "    return topicmodel, document_topic_matrix, term_topic_matrix"
      ],
      "execution_count": 0,
      "outputs": []
    },
    {
      "cell_type": "code",
      "metadata": {
        "id": "-XAy-nOGETst",
        "colab_type": "code",
        "outputId": "6f120296-4472-4655-a4c4-98d03b851947",
        "colab": {
          "base_uri": "https://localhost:8080/"
        }
      },
      "source": [
        "%%time\n",
        "lsa, document_topic_matrix_lsa, term_topic_matrix_lsa = LSA(k, cleaned_documents) \n",
        "nmf, document_topic_matrix_nmf, term_topic_matrix_nmf = NMFFunction(k, cleaned_documents)"
      ],
      "execution_count": 0,
      "outputs": [
        {
          "output_type": "stream",
          "text": [
            "CPU times: user 16.3 s, sys: 11.6 s, total: 27.9 s\n",
            "Wall time: 14.7 s\n"
          ],
          "name": "stdout"
        }
      ]
    },
    {
      "cell_type": "markdown",
      "metadata": {
        "id": "iTy_5l76V5zv",
        "colab_type": "text"
      },
      "source": [
        "## Obtaining top 10 Terms per Topic"
      ]
    },
    {
      "cell_type": "code",
      "metadata": {
        "id": "aVpno8UhFNTS",
        "colab_type": "code",
        "outputId": "49f2118c-0c78-410e-d6c4-ce8a48be2838",
        "colab": {
          "base_uri": "https://localhost:8080/"
        }
      },
      "source": [
        "%%time\n",
        "top_10_lsa = dict()\n",
        "top_10_nmf = dict()\n",
        "\n",
        "for topic in term_topic_matrix_lsa.columns:\n",
        "\n",
        "  top_10_lsa[topic] = list()\n",
        "  top_10_nmf[topic] = list()\n",
        "\n",
        "  term_topic_matrix_lsa.sort_values(by = topic, inplace = True, ascending = False)\n",
        "  term_topic_matrix_nmf.sort_values(by = topic, inplace = True, ascending = False)\n",
        "\n",
        "  for i in range(10):\n",
        "    top_10_lsa[topic].append(term_topic_matrix_lsa.index[i])\n",
        "    top_10_nmf[topic].append(term_topic_matrix_nmf.index[i])\n",
        "\n",
        "top10_term_topic_df_lsa = pd.DataFrame()\n",
        "top10_term_topic_df_nmf = pd.DataFrame()\n",
        "\n",
        "for i in top_10_lsa:\n",
        "  top10_term_topic_df_lsa[i] = top_10_lsa[i]\n",
        "  top10_term_topic_df_nmf[i] = top_10_nmf[i]"
      ],
      "execution_count": 0,
      "outputs": [
        {
          "output_type": "stream",
          "text": [
            "CPU times: user 65.5 ms, sys: 43.8 ms, total: 109 ms\n",
            "Wall time: 59.1 ms\n"
          ],
          "name": "stdout"
        }
      ]
    },
    {
      "cell_type": "code",
      "metadata": {
        "id": "RHTUiKztQXp2",
        "colab_type": "code",
        "outputId": "d76c204c-8b0f-4c92-c6c9-bb781ab057fe",
        "colab": {
          "base_uri": "https://localhost:8080/"
        }
      },
      "source": [
        "top10_term_topic_df_lsa"
      ],
      "execution_count": 0,
      "outputs": [
        {
          "output_type": "execute_result",
          "data": {
            "text/html": [
              "<div>\n",
              "<style scoped>\n",
              "    .dataframe tbody tr th:only-of-type {\n",
              "        vertical-align: middle;\n",
              "    }\n",
              "\n",
              "    .dataframe tbody tr th {\n",
              "        vertical-align: top;\n",
              "    }\n",
              "\n",
              "    .dataframe thead th {\n",
              "        text-align: right;\n",
              "    }\n",
              "</style>\n",
              "<table border=\"1\" class=\"dataframe\">\n",
              "  <thead>\n",
              "    <tr style=\"text-align: right;\">\n",
              "      <th></th>\n",
              "      <th>Topic 1</th>\n",
              "      <th>Topic 2</th>\n",
              "      <th>Topic 3</th>\n",
              "      <th>Topic 4</th>\n",
              "      <th>Topic 5</th>\n",
              "    </tr>\n",
              "  </thead>\n",
              "  <tbody>\n",
              "    <tr>\n",
              "      <th>0</th>\n",
              "      <td>said</td>\n",
              "      <td>mr</td>\n",
              "      <td>win</td>\n",
              "      <td>film</td>\n",
              "      <td>mobil</td>\n",
              "    </tr>\n",
              "    <tr>\n",
              "      <th>1</th>\n",
              "      <td>mr</td>\n",
              "      <td>labour</td>\n",
              "      <td>england</td>\n",
              "      <td>award</td>\n",
              "      <td>phone</td>\n",
              "    </tr>\n",
              "    <tr>\n",
              "      <th>2</th>\n",
              "      <td>would</td>\n",
              "      <td>elect</td>\n",
              "      <td>best</td>\n",
              "      <td>best</td>\n",
              "      <td>use</td>\n",
              "    </tr>\n",
              "    <tr>\n",
              "      <th>3</th>\n",
              "      <td>year</td>\n",
              "      <td>blair</td>\n",
              "      <td>play</td>\n",
              "      <td>oscar</td>\n",
              "      <td>peopl</td>\n",
              "    </tr>\n",
              "    <tr>\n",
              "      <th>4</th>\n",
              "      <td>peopl</td>\n",
              "      <td>parti</td>\n",
              "      <td>labour</td>\n",
              "      <td>nomin</td>\n",
              "      <td>technolog</td>\n",
              "    </tr>\n",
              "    <tr>\n",
              "      <th>5</th>\n",
              "      <td>game</td>\n",
              "      <td>tori</td>\n",
              "      <td>film</td>\n",
              "      <td>actor</td>\n",
              "      <td>game</td>\n",
              "    </tr>\n",
              "    <tr>\n",
              "      <th>6</th>\n",
              "      <td>labour</td>\n",
              "      <td>tax</td>\n",
              "      <td>award</td>\n",
              "      <td>star</td>\n",
              "      <td>user</td>\n",
              "    </tr>\n",
              "    <tr>\n",
              "      <th>7</th>\n",
              "      <td>us</td>\n",
              "      <td>brown</td>\n",
              "      <td>game</td>\n",
              "      <td>music</td>\n",
              "      <td>digit</td>\n",
              "    </tr>\n",
              "    <tr>\n",
              "      <th>8</th>\n",
              "      <td>elect</td>\n",
              "      <td>minist</td>\n",
              "      <td>blair</td>\n",
              "      <td>actress</td>\n",
              "      <td>servic</td>\n",
              "    </tr>\n",
              "    <tr>\n",
              "      <th>9</th>\n",
              "      <td>govern</td>\n",
              "      <td>govern</td>\n",
              "      <td>elect</td>\n",
              "      <td>festiv</td>\n",
              "      <td>music</td>\n",
              "    </tr>\n",
              "  </tbody>\n",
              "</table>\n",
              "</div>"
            ],
            "text/plain": [
              "  Topic 1 Topic 2  Topic 3  Topic 4    Topic 5\n",
              "0    said      mr      win     film      mobil\n",
              "1      mr  labour  england    award      phone\n",
              "2   would   elect     best     best        use\n",
              "3    year   blair     play    oscar      peopl\n",
              "4   peopl   parti   labour    nomin  technolog\n",
              "5    game    tori     film    actor       game\n",
              "6  labour     tax    award     star       user\n",
              "7      us   brown     game    music      digit\n",
              "8   elect  minist    blair  actress     servic\n",
              "9  govern  govern    elect   festiv      music"
            ]
          },
          "metadata": {
            "tags": []
          },
          "execution_count": 39
        }
      ]
    },
    {
      "cell_type": "code",
      "metadata": {
        "id": "bGgFBOs3R44-",
        "colab_type": "code",
        "outputId": "b1b04d84-5f7f-4115-9930-e7b8d1047fa6",
        "colab": {
          "base_uri": "https://localhost:8080/"
        }
      },
      "source": [
        "top10_term_topic_df_nmf"
      ],
      "execution_count": 0,
      "outputs": [
        {
          "output_type": "execute_result",
          "data": {
            "text/html": [
              "<div>\n",
              "<style scoped>\n",
              "    .dataframe tbody tr th:only-of-type {\n",
              "        vertical-align: middle;\n",
              "    }\n",
              "\n",
              "    .dataframe tbody tr th {\n",
              "        vertical-align: top;\n",
              "    }\n",
              "\n",
              "    .dataframe thead th {\n",
              "        text-align: right;\n",
              "    }\n",
              "</style>\n",
              "<table border=\"1\" class=\"dataframe\">\n",
              "  <thead>\n",
              "    <tr style=\"text-align: right;\">\n",
              "      <th></th>\n",
              "      <th>Topic 1</th>\n",
              "      <th>Topic 2</th>\n",
              "      <th>Topic 3</th>\n",
              "      <th>Topic 4</th>\n",
              "      <th>Topic 5</th>\n",
              "    </tr>\n",
              "  </thead>\n",
              "  <tbody>\n",
              "    <tr>\n",
              "      <th>0</th>\n",
              "      <td>game</td>\n",
              "      <td>mr</td>\n",
              "      <td>mobil</td>\n",
              "      <td>film</td>\n",
              "      <td>bn</td>\n",
              "    </tr>\n",
              "    <tr>\n",
              "      <th>1</th>\n",
              "      <td>england</td>\n",
              "      <td>labour</td>\n",
              "      <td>phone</td>\n",
              "      <td>award</td>\n",
              "      <td>growth</td>\n",
              "    </tr>\n",
              "    <tr>\n",
              "      <th>2</th>\n",
              "      <td>play</td>\n",
              "      <td>elect</td>\n",
              "      <td>use</td>\n",
              "      <td>best</td>\n",
              "      <td>economi</td>\n",
              "    </tr>\n",
              "    <tr>\n",
              "      <th>3</th>\n",
              "      <td>win</td>\n",
              "      <td>blair</td>\n",
              "      <td>peopl</td>\n",
              "      <td>oscar</td>\n",
              "      <td>us</td>\n",
              "    </tr>\n",
              "    <tr>\n",
              "      <th>4</th>\n",
              "      <td>player</td>\n",
              "      <td>parti</td>\n",
              "      <td>technolog</td>\n",
              "      <td>star</td>\n",
              "      <td>bank</td>\n",
              "    </tr>\n",
              "    <tr>\n",
              "      <th>5</th>\n",
              "      <td>nt</td>\n",
              "      <td>tori</td>\n",
              "      <td>music</td>\n",
              "      <td>nomin</td>\n",
              "      <td>rate</td>\n",
              "    </tr>\n",
              "    <tr>\n",
              "      <th>6</th>\n",
              "      <td>wale</td>\n",
              "      <td>brown</td>\n",
              "      <td>servic</td>\n",
              "      <td>actor</td>\n",
              "      <td>said</td>\n",
              "    </tr>\n",
              "    <tr>\n",
              "      <th>7</th>\n",
              "      <td>match</td>\n",
              "      <td>said</td>\n",
              "      <td>user</td>\n",
              "      <td>actress</td>\n",
              "      <td>year</td>\n",
              "    </tr>\n",
              "    <tr>\n",
              "      <th>8</th>\n",
              "      <td>said</td>\n",
              "      <td>tax</td>\n",
              "      <td>said</td>\n",
              "      <td>festiv</td>\n",
              "      <td>price</td>\n",
              "    </tr>\n",
              "    <tr>\n",
              "      <th>9</th>\n",
              "      <td>team</td>\n",
              "      <td>would</td>\n",
              "      <td>digit</td>\n",
              "      <td>director</td>\n",
              "      <td>econom</td>\n",
              "    </tr>\n",
              "  </tbody>\n",
              "</table>\n",
              "</div>"
            ],
            "text/plain": [
              "   Topic 1 Topic 2    Topic 3   Topic 4  Topic 5\n",
              "0     game      mr      mobil      film       bn\n",
              "1  england  labour      phone     award   growth\n",
              "2     play   elect        use      best  economi\n",
              "3      win   blair      peopl     oscar       us\n",
              "4   player   parti  technolog      star     bank\n",
              "5       nt    tori      music     nomin     rate\n",
              "6     wale   brown     servic     actor     said\n",
              "7    match    said       user   actress     year\n",
              "8     said     tax       said    festiv    price\n",
              "9     team   would      digit  director   econom"
            ]
          },
          "metadata": {
            "tags": []
          },
          "execution_count": 40
        }
      ]
    },
    {
      "cell_type": "markdown",
      "metadata": {
        "id": "_LtIkehRZ65s",
        "colab_type": "text"
      },
      "source": [
        "## Obtaining Document Classification"
      ]
    },
    {
      "cell_type": "code",
      "metadata": {
        "id": "vNRFyckoaASt",
        "colab_type": "code",
        "outputId": "48f4365e-f038-4537-9a92-029d72485ce4",
        "colab": {
          "base_uri": "https://localhost:8080/"
        }
      },
      "source": [
        "%%time\n",
        "document_class = pd.DataFrame()\n",
        "document_class[\"Document\"] = document_topic_matrix_lsa.index\n",
        "\n",
        "t1 = document_topic_matrix_lsa[classes]\n",
        "t1.reset_index(inplace = True)\n",
        "t1.drop(columns = \"index\",inplace=True)\n",
        "  \n",
        "\n",
        "t2 = document_topic_matrix_nmf[classes]\n",
        "t2.reset_index(inplace = True)\n",
        "t2.drop(columns = \"index\",inplace=True)\n",
        "\n",
        "document_class[\"LSA\"] = t1.idxmax(axis = 1)\n",
        "document_class[\"LSA\"] = document_class[\"LSA\"].apply(lambda x: int(x.split()[1]))\n",
        "document_class[\"NMF\"] = t1.idxmax(axis = 1)\n",
        "document_class[\"NMF\"] = document_class[\"NMF\"].apply(lambda x: int(x.split()[1]))"
      ],
      "execution_count": 0,
      "outputs": [
        {
          "output_type": "stream",
          "text": [
            "CPU times: user 20.3 ms, sys: 41 µs, total: 20.3 ms\n",
            "Wall time: 20.4 ms\n"
          ],
          "name": "stdout"
        }
      ]
    },
    {
      "cell_type": "code",
      "metadata": {
        "id": "RvnzwmqsaAGZ",
        "colab_type": "code",
        "outputId": "142394e3-7b91-46fb-ceb3-655205fd9bfb",
        "colab": {
          "base_uri": "https://localhost:8080/"
        }
      },
      "source": [
        "document_class.head(10)"
      ],
      "execution_count": 0,
      "outputs": [
        {
          "output_type": "execute_result",
          "data": {
            "text/html": [
              "<div>\n",
              "<style scoped>\n",
              "    .dataframe tbody tr th:only-of-type {\n",
              "        vertical-align: middle;\n",
              "    }\n",
              "\n",
              "    .dataframe tbody tr th {\n",
              "        vertical-align: top;\n",
              "    }\n",
              "\n",
              "    .dataframe thead th {\n",
              "        text-align: right;\n",
              "    }\n",
              "</style>\n",
              "<table border=\"1\" class=\"dataframe\">\n",
              "  <thead>\n",
              "    <tr style=\"text-align: right;\">\n",
              "      <th></th>\n",
              "      <th>Document</th>\n",
              "      <th>LSA</th>\n",
              "      <th>NMF</th>\n",
              "    </tr>\n",
              "  </thead>\n",
              "  <tbody>\n",
              "    <tr>\n",
              "      <th>0</th>\n",
              "      <td>readi inform act thousand public bodi illprepa...</td>\n",
              "      <td>1</td>\n",
              "      <td>1</td>\n",
              "    </tr>\n",
              "    <tr>\n",
              "      <th>1</th>\n",
              "      <td>khodorkovski alli deni charg close associ form...</td>\n",
              "      <td>1</td>\n",
              "      <td>1</td>\n",
              "    </tr>\n",
              "    <tr>\n",
              "      <th>2</th>\n",
              "      <td>us duo first spam convict brother sister us co...</td>\n",
              "      <td>1</td>\n",
              "      <td>1</td>\n",
              "    </tr>\n",
              "    <tr>\n",
              "      <th>3</th>\n",
              "      <td>huge rush jet airway share indian airlin jet a...</td>\n",
              "      <td>1</td>\n",
              "      <td>1</td>\n",
              "    </tr>\n",
              "    <tr>\n",
              "      <th>4</th>\n",
              "      <td>labour face cold call inquiri labour investig ...</td>\n",
              "      <td>1</td>\n",
              "      <td>1</td>\n",
              "    </tr>\n",
              "    <tr>\n",
              "      <th>5</th>\n",
              "      <td>blog take mainstream web log blog everywher le...</td>\n",
              "      <td>1</td>\n",
              "      <td>1</td>\n",
              "    </tr>\n",
              "    <tr>\n",
              "      <th>6</th>\n",
              "      <td>laser help bridg network gap indian telecommun...</td>\n",
              "      <td>1</td>\n",
              "      <td>1</td>\n",
              "    </tr>\n",
              "    <tr>\n",
              "      <th>7</th>\n",
              "      <td>moya emot davi cup win carlo moya describ spai...</td>\n",
              "      <td>1</td>\n",
              "      <td>1</td>\n",
              "    </tr>\n",
              "    <tr>\n",
              "      <th>8</th>\n",
              "      <td>watchdog probe vivendi bond sale french stock ...</td>\n",
              "      <td>1</td>\n",
              "      <td>1</td>\n",
              "    </tr>\n",
              "    <tr>\n",
              "      <th>9</th>\n",
              "      <td>california set fine spywar maker comput progra...</td>\n",
              "      <td>1</td>\n",
              "      <td>1</td>\n",
              "    </tr>\n",
              "  </tbody>\n",
              "</table>\n",
              "</div>"
            ],
            "text/plain": [
              "                                            Document  LSA  NMF\n",
              "0  readi inform act thousand public bodi illprepa...    1    1\n",
              "1  khodorkovski alli deni charg close associ form...    1    1\n",
              "2  us duo first spam convict brother sister us co...    1    1\n",
              "3  huge rush jet airway share indian airlin jet a...    1    1\n",
              "4  labour face cold call inquiri labour investig ...    1    1\n",
              "5  blog take mainstream web log blog everywher le...    1    1\n",
              "6  laser help bridg network gap indian telecommun...    1    1\n",
              "7  moya emot davi cup win carlo moya describ spai...    1    1\n",
              "8  watchdog probe vivendi bond sale french stock ...    1    1\n",
              "9  california set fine spywar maker comput progra...    1    1"
            ]
          },
          "metadata": {
            "tags": []
          },
          "execution_count": 42
        }
      ]
    },
    {
      "cell_type": "code",
      "metadata": {
        "id": "S39yRFYOaADX",
        "colab_type": "code",
        "outputId": "1272c6a5-a8bc-4464-8d79-03293af5461c",
        "colab": {
          "base_uri": "https://localhost:8080/"
        }
      },
      "source": [
        "matches = sum(document_class[\"LSA\"]==document_class[\"NMF\"])\n",
        "matches"
      ],
      "execution_count": 0,
      "outputs": [
        {
          "output_type": "execute_result",
          "data": {
            "text/plain": [
              "2224"
            ]
          },
          "metadata": {
            "tags": []
          },
          "execution_count": 43
        }
      ]
    },
    {
      "cell_type": "code",
      "metadata": {
        "id": "o9RjftV7fray",
        "colab_type": "code",
        "outputId": "f9060b52-bfc2-49c5-8fd5-66d56058798f",
        "colab": {
          "base_uri": "https://localhost:8080/"
        }
      },
      "source": [
        "plt.hist(document_class[\"LSA\"])"
      ],
      "execution_count": 0,
      "outputs": [
        {
          "output_type": "execute_result",
          "data": {
            "text/plain": [
              "(array([1919.,    0.,   55.,    0.,    0.,   45.,    0.,  140.,    0.,\n",
              "          65.]),\n",
              " array([1. , 1.4, 1.8, 2.2, 2.6, 3. , 3.4, 3.8, 4.2, 4.6, 5. ]),\n",
              " <a list of 10 Patch objects>)"
            ]
          },
          "metadata": {
            "tags": []
          },
          "execution_count": 44
        },
        {
          "output_type": "display_data",
          "data": {
            "image/png": "[encoded data removed]",
            "text/plain": [
              "<Figure size 576x396 with 1 Axes>"
            ]
          },
          "metadata": {
            "tags": []
          }
        }
      ]
    },
    {
      "cell_type": "markdown",
      "metadata": {
        "id": "7OHUFpeXYvMa",
        "colab_type": "text"
      },
      "source": [
        "## Visualizing Topics"
      ]
    },
    {
      "cell_type": "code",
      "metadata": {
        "id": "QBLvD4o6SNXA",
        "colab_type": "code",
        "outputId": "82b9bf35-baf9-48cc-9e99-ff745f2d19fc",
        "colab": {
          "base_uri": "https://localhost:8080/"
        }
      },
      "source": [
        "embedding = umap.UMAP(n_neighbors=150, min_dist=0.5, random_state=12).fit_transform(lsa)\n",
        "plt.figure(figsize=(7,5))\n",
        "plt.title(\"LSA Topic Modelling\")\n",
        "scatter = plt.scatter(embedding[:, 0], embedding[:, 1],s = 10, c= document_class[\"LSA\"], edgecolor='none',cmap='plasma')\n",
        "plt.legend(handles=scatter.legend_elements()[0],labels = classes)\n",
        "plt.show()"
      ],
      "execution_count": 0,
      "outputs": [
        {
          "output_type": "display_data",
          "data": {
            "image/png": "[encoded data removed]",
            "text/plain": [
              "<Figure size 504x360 with 1 Axes>"
            ]
          },
          "metadata": {
            "tags": []
          }
        }
      ]
    },
    {
      "cell_type": "code",
      "metadata": {
        "id": "DrIiAnPMY-PN",
        "colab_type": "code",
        "outputId": "3e3e2300-f851-4376-8524-728f0e604086",
        "colab": {
          "base_uri": "https://localhost:8080/"
        }
      },
      "source": [
        "embedding = umap.UMAP(n_neighbors=150, min_dist=0.5, random_state=12).fit_transform(nmf)\n",
        "plt.figure(figsize=(7,5))\n",
        "plt.title(\"NMF Topic Modelling\")\n",
        "scatter = plt.scatter(embedding[:, 0], embedding[:, 1],s = 10, c= document_class[\"NMF\"], edgecolor='none',cmap='plasma')\n",
        "plt.legend(handles=scatter.legend_elements()[0],labels = classes)\n",
        "plt.show()"
      ],
      "execution_count": 0,
      "outputs": [
        {
          "output_type": "display_data",
          "data": {
            "image/png": "[encoded data removed]",
            "text/plain": [
              "<Figure size 504x360 with 1 Axes>"
            ]
          },
          "metadata": {
            "tags": []
          }
        }
      ]
    },
    {
      "cell_type": "markdown",
      "metadata": {
        "id": "T35ET9U18MAu",
        "colab_type": "text"
      },
      "source": [
        "# Question 2\n",
        "Your boss at the news agency was extremely impressed with your work and has assigned you to a new job – summarising these news articles for their app. Your boss needs you to develop an extractive model that can build accurate summaries and still be computationally inexpensive.\n",
        "\n",
        "A good text summary is short and crisp and yet retains the keywords in the original document. We can hence define a summary score as -\n",
        "\n",
        "\\begin{equation*}\n",
        "Summary Score = (\\frac{K_{S}}{K_{D}})(\\frac{S_{D}-S_{S}}{S_{D}})\\\n",
        "\\end{equation*}\n",
        "\n",
        "\n",
        "where ks is the number of keywords in the summary and kd is the number of keywords in the document. Similarly, sD and ss are the number of sentences in the document and summary, respectively. A good summary will have a smaller number of sentences in the summary and a high number of keywords, hence a summary score of 1 is perfect and 0 is undesirable. \n",
        "\n",
        "Your goal is to develop a model that achieves an optimal summary score within a reasonable amount of time.\n"
      ]
    },
    {
      "cell_type": "markdown",
      "metadata": {
        "id": "zDyT2sfnCjg2",
        "colab_type": "text"
      },
      "source": [
        "## Initialsing scoring metric"
      ]
    },
    {
      "cell_type": "code",
      "metadata": {
        "id": "BGwSUyGWZXHC",
        "colab_type": "code",
        "outputId": "df7ed719-4841-4ec6-d712-6edea95747f3",
        "colab": {
          "base_uri": "https://localhost:8080/",
          "height": 0
        }
      },
      "source": [
        "!pip install rake-nltk\n",
        "from rake_nltk import Rake \n",
        "r = Rake()\n",
        "\n",
        "def summary_score(summary, document):\n",
        "  ss = len(sent_tokenize(summary))\n",
        "  sd = len(sent_tokenize(document))\n",
        "\n",
        "  kw = r.extract_keywords_from_text(summary)\n",
        "  ks = len(r.get_ranked_phrases())\n",
        "\n",
        "  kw = r.extract_keywords_from_text(document)\n",
        "  kd = len(r.get_ranked_phrases())\n",
        "\n",
        "  return (ks/kd)*((sd-ss)/sd)"
      ],
      "execution_count": 5,
      "outputs": [
        {
          "output_type": "stream",
          "text": [
            "Collecting rake-nltk\n",
            "  Downloading https://files.pythonhosted.org/packages/8e/c4/b4ff57e541ac5624ad4b20b89c2bafd4e98f29fd83139f3a81858bdb3815/rake_nltk-1.0.4.tar.gz\n",
            "Requirement already satisfied: nltk in /usr/local/lib/python3.6/dist-packages (from rake-nltk) (3.2.5)\n",
            "Requirement already satisfied: six in /usr/local/lib/python3.6/dist-packages (from nltk->rake-nltk) (1.12.0)\n",
            "Building wheels for collected packages: rake-nltk\n",
            "  Building wheel for rake-nltk (setup.py) ... \u001b[?25l\u001b[?25hdone\n",
            "  Created wheel for rake-nltk: filename=rake_nltk-1.0.4-py2.py3-none-any.whl size=7819 sha256=0ef029143a013008467a05cef936dc86168e746e046cda5cf0351df490f96a4d\n",
            "  Stored in directory: /root/.cache/pip/wheels/ef/92/fc/271b3709e71a96ffe934b27818946b795ac6b9b8ff8682483f\n",
            "Successfully built rake-nltk\n",
            "Installing collected packages: rake-nltk\n",
            "Successfully installed rake-nltk-1.0.4\n"
          ],
          "name": "stdout"
        }
      ]
    },
    {
      "cell_type": "markdown",
      "metadata": {
        "id": "EL0hSEKkKmP7",
        "colab_type": "text"
      },
      "source": [
        "## TFIDF Summarization"
      ]
    },
    {
      "cell_type": "markdown",
      "metadata": {
        "id": "CSSPdqWvK9iy",
        "colab_type": "text"
      },
      "source": [
        "### Declaring Functions"
      ]
    },
    {
      "cell_type": "code",
      "metadata": {
        "id": "LZcQxLDgCKER",
        "colab_type": "code",
        "colab": {}
      },
      "source": [
        "def TFIDF_avg_summary(document):\n",
        "  sentences = sent_tokenize(document)\n",
        "  clean_sentences = list(map(TextPreprocessing.clean, sentences))\n",
        "  vectorizer = TfidfVectorizer(smooth_idf = True)\n",
        "  X = vectorizer.fit_transform(clean_sentences).toarray()\n",
        "\n",
        "  sentence_scores = [(pos,sum(vector)) for pos, vector in enumerate(X)]\n",
        "  sent_sum = 0\n",
        "  for pair in sentence_scores:\n",
        "    sent_sum+= pair[1]\n",
        "  avg = sent_sum/X.shape[0]\n",
        "\n",
        "  top_sentences = [i for i in sentence_scores if i[1]>=avg]\n",
        "  top_sentences.sort(key = lambda x: x[0])\n",
        "  summary = [sentences[pair[0]] for pair in top_sentences]\n",
        "  return \" \".join(summary)\n",
        "\n",
        "def TFIDF_k_summary(k, document):\n",
        "  sentences = sent_tokenize(document)\n",
        "  clean_sentences = list(map(TextPreprocessing.clean, sentences))\n",
        "  vectorizer = TfidfVectorizer(smooth_idf = True)\n",
        "  X = vectorizer.fit_transform(clean_sentences).toarray()\n",
        "\n",
        "  sentence_scores = [(pos,sum(vector)) for pos, vector in enumerate(X)]\n",
        "  sentence_scores.sort(key = lambda x: x[1], reverse = True)\n",
        "  topk_sentences = sentence_scores[:k]\n",
        "\n",
        "  topk_sentences.sort(key = lambda x: x[0])\n",
        "  summary = [sentences[pair[0]] for pair in topk_sentences]\n",
        "  return \" \".join(summary)"
      ],
      "execution_count": 0,
      "outputs": []
    },
    {
      "cell_type": "markdown",
      "metadata": {
        "id": "oiwPi6KVK2Ra",
        "colab_type": "text"
      },
      "source": [
        "### Summarizing with TFIDF"
      ]
    },
    {
      "cell_type": "markdown",
      "metadata": {
        "id": "9H5XNhjtOIjg",
        "colab_type": "text"
      },
      "source": [
        "#### Average Based"
      ]
    },
    {
      "cell_type": "code",
      "metadata": {
        "id": "fRbWxRAQGvQk",
        "colab_type": "code",
        "outputId": "854d7f7d-662f-4460-9550-d73677883aef",
        "colab": {
          "base_uri": "https://localhost:8080/",
          "height": 50
        }
      },
      "source": [
        "%%time\n",
        "summaries_tfidf_avg = [TFIDF_avg_summary(doc) for doc in documents]\n",
        "summary_scores_tfidf_avg = np.array([summary_score(summaries_tfidf_avg[i],documents[i]) for i in range(len(documents))], dtype = 'float')"
      ],
      "execution_count": 31,
      "outputs": [
        {
          "output_type": "stream",
          "text": [
            "CPU times: user 31 s, sys: 29.2 ms, total: 31 s\n",
            "Wall time: 31 s\n"
          ],
          "name": "stdout"
        }
      ]
    },
    {
      "cell_type": "code",
      "metadata": {
        "id": "ZJdk4835GzLp",
        "colab_type": "code",
        "outputId": "3217cd1a-7c70-48fe-a343-9b98be6af635",
        "colab": {
          "base_uri": "https://localhost:8080/",
          "height": 379
        }
      },
      "source": [
        "plt.scatter(list(map(len,documents)),summary_scores_tfidf_avg)\n",
        "plt.title(\"Document Size vs TF-IDF-Avg Summary Score\")"
      ],
      "execution_count": 32,
      "outputs": [
        {
          "output_type": "execute_result",
          "data": {
            "text/plain": [
              "Text(0.5, 1.0, 'Document Size vs TF-IDF-Avg Summary Score')"
            ]
          },
          "metadata": {
            "tags": []
          },
          "execution_count": 32
        },
        {
          "output_type": "display_data",
          "data": {
            "image/png": "[encoded data removed]",
            "text/plain": [
              "<Figure size 576x396 with 1 Axes>"
            ]
          },
          "metadata": {
            "tags": []
          }
        }
      ]
    },
    {
      "cell_type": "markdown",
      "metadata": {
        "id": "aipbSju_OSb6",
        "colab_type": "text"
      },
      "source": [
        "#### K-Proportion Based - 0.45"
      ]
    },
    {
      "cell_type": "code",
      "metadata": {
        "id": "etyASYX6HM77",
        "colab_type": "code",
        "colab": {}
      },
      "source": [
        "%%time\n",
        "max_k = 0.95\n",
        "k_values = []\n",
        "kprop_means = []\n",
        "for k in np.arange(0.05,max_k+0.05,0.05):\n",
        "  k_values.append(k)\n",
        "  summaries_tfidf_kprop = [TFIDF_k_summary(int(k*len(sent_tokenize(doc))), doc) for doc in documents]\n",
        "  summary_scores_tfidf_kprop = np.array([summary_score(summaries_tfidf_kprop[i],documents[i]) for i in range(len(documents))], dtype = 'float')\n",
        "  kprop_means.append(summary_scores_tfidf_kprop.mean())"
      ],
      "execution_count": 0,
      "outputs": []
    },
    {
      "cell_type": "code",
      "metadata": {
        "id": "cMz3GUtjPedu",
        "colab_type": "code",
        "colab": {}
      },
      "source": [
        "plt.plot(k_values,kprop_means)\n",
        "plt.title(\"K vs K-Proportion Summary Scores\")"
      ],
      "execution_count": 0,
      "outputs": []
    },
    {
      "cell_type": "code",
      "metadata": {
        "id": "mTPOA5qmEjcX",
        "colab_type": "code",
        "colab": {}
      },
      "source": [
        "k_values[kprop_means.index(max(kprop_means))]"
      ],
      "execution_count": 0,
      "outputs": []
    },
    {
      "cell_type": "code",
      "metadata": {
        "id": "DpyKuJCVMWfK",
        "colab_type": "code",
        "outputId": "0f6bd7d2-41d0-4cfa-dd88-0bb76c2cbb89",
        "colab": {
          "base_uri": "https://localhost:8080/",
          "height": 50
        }
      },
      "source": [
        "%%time\n",
        "k = 0.45\n",
        "summaries_tfidf_kprop = [TFIDF_k_summary(int(k*len(sent_tokenize(doc))), doc) for doc in documents]\n",
        "summary_scores_tfidf_kprop = np.array([summary_score(summaries_tfidf_kprop[i],documents[i]) for i in range(len(documents))], dtype = 'float')"
      ],
      "execution_count": 9,
      "outputs": [
        {
          "output_type": "stream",
          "text": [
            "CPU times: user 31.7 s, sys: 1.85 ms, total: 31.7 s\n",
            "Wall time: 31.7 s\n"
          ],
          "name": "stdout"
        }
      ]
    },
    {
      "cell_type": "code",
      "metadata": {
        "id": "Fslb3Mn4MhA2",
        "colab_type": "code",
        "outputId": "aadfe59c-3ef5-4bcf-df64-21755b88327c",
        "colab": {
          "base_uri": "https://localhost:8080/",
          "height": 379
        }
      },
      "source": [
        "plt.scatter(list(map(len,documents)),summary_scores_tfidf_kprop)\n",
        "plt.title(\"Document Size vs TF-IDF-K-Proportion Summary Score\")"
      ],
      "execution_count": 10,
      "outputs": [
        {
          "output_type": "execute_result",
          "data": {
            "text/plain": [
              "Text(0.5, 1.0, 'Document Size vs TF-IDF-K-Proportion Summary Score')"
            ]
          },
          "metadata": {
            "tags": []
          },
          "execution_count": 10
        },
        {
          "output_type": "display_data",
          "data": {
            "image/png": "[encoded data removed]",
            "text/plain": [
              "<Figure size 576x396 with 1 Axes>"
            ]
          },
          "metadata": {
            "tags": []
          }
        }
      ]
    },
    {
      "cell_type": "markdown",
      "metadata": {
        "id": "LfRJvC3fSpTU",
        "colab_type": "text"
      },
      "source": [
        "#### K-Sentence Based - 6"
      ]
    },
    {
      "cell_type": "code",
      "metadata": {
        "id": "Us53p5rBSVtD",
        "colab_type": "code",
        "outputId": "fe6a9dde-9172-4515-e3b2-6a8baf1633cb",
        "colab": {
          "base_uri": "https://localhost:8080/",
          "height": 50
        }
      },
      "source": [
        "%%time\n",
        "max_k = 50 #max(list(map(len,list(map(sent_tokenize,documents))))) - takes 3 hours\n",
        "k_values = []\n",
        "ksent_means = []\n",
        "for k in np.arange(2,max_k+1):\n",
        "  k_values.append(k)\n",
        "  summaries_tfidf_ksent = [TFIDF_k_summary(k, doc) for doc in documents]\n",
        "  summary_scores_tfidf_ksent = np.array([summary_score(summaries_tfidf_ksent[i],documents[i]) for i in range(len(documents))], dtype = 'float')\n",
        "  ksent_means.append(summary_scores_tfidf_ksent.mean())"
      ],
      "execution_count": 0,
      "outputs": [
        {
          "output_type": "stream",
          "text": [
            "CPU times: user 26min 14s, sys: 369 ms, total: 26min 14s\n",
            "Wall time: 26min 15s\n"
          ],
          "name": "stdout"
        }
      ]
    },
    {
      "cell_type": "code",
      "metadata": {
        "id": "eLFbHoofSWte",
        "colab_type": "code",
        "outputId": "4e91d3e1-3b9c-4174-e88b-e001ac45daa5",
        "colab": {
          "base_uri": "https://localhost:8080/",
          "height": 379
        }
      },
      "source": [
        "plt.plot(k_values,ksent_means)\n",
        "plt.title(\"K vs K-Sentences Summary Scores\")"
      ],
      "execution_count": 0,
      "outputs": [
        {
          "output_type": "execute_result",
          "data": {
            "text/plain": [
              "Text(0.5, 1.0, 'K vs K-Sentences Summary Scores')"
            ]
          },
          "metadata": {
            "tags": []
          },
          "execution_count": 15
        },
        {
          "output_type": "display_data",
          "data": {
            "image/png": "[encoded data removed]",
            "text/plain": [
              "<Figure size 576x396 with 1 Axes>"
            ]
          },
          "metadata": {
            "tags": []
          }
        }
      ]
    },
    {
      "cell_type": "code",
      "metadata": {
        "id": "1FlhHVPSTH5n",
        "colab_type": "code",
        "outputId": "35a16c9a-705e-4c40-9120-6ddf3d7ce459",
        "colab": {
          "base_uri": "https://localhost:8080/",
          "height": 34
        }
      },
      "source": [
        "k_values[ksent_means.index(max(ksent_means))]"
      ],
      "execution_count": 0,
      "outputs": [
        {
          "output_type": "execute_result",
          "data": {
            "text/plain": [
              "6"
            ]
          },
          "metadata": {
            "tags": []
          },
          "execution_count": 16
        }
      ]
    },
    {
      "cell_type": "code",
      "metadata": {
        "id": "mZ0OY87oT9Bb",
        "colab_type": "code",
        "outputId": "eb837ecf-32e3-413c-83e2-df95c6169541",
        "colab": {
          "base_uri": "https://localhost:8080/",
          "height": 50
        }
      },
      "source": [
        "%%time\n",
        "k = 6\n",
        "summaries_tfidf_ksent = [TFIDF_k_summary(k, doc) for doc in documents]\n",
        "summary_scores_tfidf_ksent = np.array([summary_score(summaries_tfidf_ksent[i],documents[i]) for i in range(len(documents))], dtype = 'float')"
      ],
      "execution_count": 11,
      "outputs": [
        {
          "output_type": "stream",
          "text": [
            "CPU times: user 30 s, sys: 3.97 ms, total: 30 s\n",
            "Wall time: 30 s\n"
          ],
          "name": "stdout"
        }
      ]
    },
    {
      "cell_type": "code",
      "metadata": {
        "id": "xbMZtJGKURkK",
        "colab_type": "code",
        "outputId": "046adbc6-5631-4f8e-951a-492f07ee5668",
        "colab": {
          "base_uri": "https://localhost:8080/",
          "height": 379
        }
      },
      "source": [
        "plt.scatter(list(map(len,documents)),summary_scores_tfidf_ksent)\n",
        "plt.title(\"Document Size vs TF-IDF-K-Sentences Summary Score\")"
      ],
      "execution_count": 12,
      "outputs": [
        {
          "output_type": "execute_result",
          "data": {
            "text/plain": [
              "Text(0.5, 1.0, 'Document Size vs TF-IDF-K-Sentences Summary Score')"
            ]
          },
          "metadata": {
            "tags": []
          },
          "execution_count": 12
        },
        {
          "output_type": "display_data",
          "data": {
            "image/png": "[encoded data removed]",
            "text/plain": [
              "<Figure size 576x396 with 1 Axes>"
            ]
          },
          "metadata": {
            "tags": []
          }
        }
      ]
    },
    {
      "cell_type": "markdown",
      "metadata": {
        "id": "oghmz5LVVLe1",
        "colab_type": "text"
      },
      "source": [
        "### TFIDF Results"
      ]
    },
    {
      "cell_type": "code",
      "metadata": {
        "id": "JTLrRb2oUYrt",
        "colab_type": "code",
        "outputId": "15b3aac1-7aa4-4906-cb98-674b6b620cd7",
        "colab": {
          "base_uri": "https://localhost:8080/",
          "height": 69
        }
      },
      "source": [
        "print(\"Average Score using Average Method:\", summary_scores_tfidf_avg.mean())\n",
        "print(\"Average Score using K-Proportion Method:\", summary_scores_tfidf_kprop.mean())\n",
        "print(\"Average Score using K-Sentences Method:\", summary_scores_tfidf_ksent.mean())"
      ],
      "execution_count": 13,
      "outputs": [
        {
          "output_type": "stream",
          "text": [
            "Average Score using Average Method: 0.31161412562061674\n",
            "Average Score using K-Proportion Method: 0.3235084705351527\n",
            "Average Score using K-Sentences Method: 0.2856592297626625\n"
          ],
          "name": "stdout"
        }
      ]
    },
    {
      "cell_type": "markdown",
      "metadata": {
        "id": "O_PSEAzoZxU1",
        "colab_type": "text"
      },
      "source": [
        "## LSA Summarization"
      ]
    },
    {
      "cell_type": "markdown",
      "metadata": {
        "id": "qs3n1c-Uc3Dy",
        "colab_type": "text"
      },
      "source": [
        "### Declaring Functions"
      ]
    },
    {
      "cell_type": "code",
      "metadata": {
        "id": "KO57gFfpc6Yz",
        "colab_type": "code",
        "colab": {}
      },
      "source": [
        "def LSAsummarize(k, document):\n",
        "    X = sent_tokenize(document)\n",
        "    X_clean = list(map(TextPreprocessing.clean, X))\n",
        "    vectorizer = TfidfVectorizer(smooth_idf=True)\n",
        "    X_transformed = vectorizer.fit_transform(X_clean)\n",
        "    feature_count = len(vectorizer.get_feature_names())\n",
        "    if k>feature_count:\n",
        "        k = feature_count-1\n",
        "    svd = TruncatedSVD(n_components=k, algorithm='randomized', n_iter=10, random_state=122)\n",
        "    lsa = svd.fit_transform(X_transformed)\n",
        "    Sigma = svd.singular_values_\n",
        "    column_names = [\"Topic {}\".format(str(i+1)) for i in range(lsa.shape[1])]\n",
        "    document_topic_matrix = pd.DataFrame(lsa,columns=column_names)\n",
        "    document_topic_matrix[\"Document\"] = X\n",
        "    document_topic_matrix[\"Position\"] = [i for i in range(len(X))]\n",
        "    dic = vectorizer.get_feature_names()\n",
        "    term_topic_matrix = pd.DataFrame(svd.components_, index = column_names, columns = (dic)).T\n",
        "\n",
        "    agg = sum(Sigma)\n",
        "    percentage_topic = (Sigma/agg)*len(X)\n",
        "    sigma = percentage_topic.astype(int)\n",
        "\n",
        "    summary = []\n",
        "    column_names = [\"Topic {}\".format(str(i+1)) for i in range(len(sigma))]\n",
        "    for i in range(len(column_names)):\n",
        "        num_sent = sigma[i]\n",
        "        topic = column_names[i]\n",
        "        document_topic_matrix.sort_values(by = topic,inplace=True,ascending = False)\n",
        "        \n",
        "        document_topic_matrix.reset_index(inplace=True)\n",
        "        document_topic_matrix.drop(columns = [\"index\"],inplace=True)\n",
        "        j = 0\n",
        "        ctr = 0\n",
        "        while ctr != num_sent:\n",
        "            item = (document_topic_matrix[\"Document\"][j],document_topic_matrix[\"Position\"][j])\n",
        "            if item not in summary:\n",
        "                summary.append(item)\n",
        "                ctr+=1\n",
        "            j+=1\n",
        "    summary.sort(key = lambda x: x[1])\n",
        "    sent = [i[0] for i in summary]\n",
        "    return \" \".join(sent)"
      ],
      "execution_count": 0,
      "outputs": []
    },
    {
      "cell_type": "markdown",
      "metadata": {
        "id": "OnHkQxC7bq4y",
        "colab_type": "text"
      },
      "source": [
        "### Finding best K for all documents"
      ]
    },
    {
      "cell_type": "code",
      "metadata": {
        "id": "2Z6o1RnIZkUS",
        "colab_type": "code",
        "outputId": "eedfb675-9180-4d63-c594-71f9e4d69dd9",
        "colab": {
          "base_uri": "https://localhost:8080/",
          "height": 0
        }
      },
      "source": [
        "%%time\n",
        "max_k = 30\n",
        "k_values = []\n",
        "ktopics_means = []\n",
        "for k in range(2,max_k+1):\n",
        "  k_values.append(k)\n",
        "  print(k,end=\" \")\n",
        "  summaries_LSA = [LSAsummarize(k,doc) for doc in documents]\n",
        "  summary_scores_LSA = np.array([summary_score(summaries_LSA[i],documents[i]) for i in range(len(documents))], dtype = \"float\")\n",
        "  ktopics_means.append(summary_scores_LSA.mean())"
      ],
      "execution_count": 15,
      "outputs": [
        {
          "output_type": "stream",
          "text": [
            "2 3 4 5 6 7 8 9 10 11 12 13 14 15 16 17 18 19 20 21 22 23 24 25 26 27 28 29 30 CPU times: user 1h 13min 12s, sys: 49min 15s, total: 2h 2min 28s\n",
            "Wall time: 1h 3min 55s\n"
          ],
          "name": "stdout"
        }
      ]
    },
    {
      "cell_type": "code",
      "metadata": {
        "id": "P5yruGptj9TF",
        "colab_type": "code",
        "outputId": "fd7a7f44-611d-43e4-c059-270e7b32a62a",
        "colab": {
          "base_uri": "https://localhost:8080/",
          "height": 0
        }
      },
      "source": [
        "plt.plot(k_values,ktopics_means)\n",
        "plt.title(\"K vs K-Topics Summary Scores\")"
      ],
      "execution_count": 16,
      "outputs": [
        {
          "output_type": "execute_result",
          "data": {
            "text/plain": [
              "Text(0.5, 1.0, 'K vs K-Topics Summary Scores')"
            ]
          },
          "metadata": {
            "tags": []
          },
          "execution_count": 16
        },
        {
          "output_type": "display_data",
          "data": {
            "image/png": "[encoded data removed]",
            "text/plain": [
              "<Figure size 576x396 with 1 Axes>"
            ]
          },
          "metadata": {
            "tags": []
          }
        }
      ]
    },
    {
      "cell_type": "code",
      "metadata": {
        "id": "4IhfOm4AG5bx",
        "colab_type": "code",
        "outputId": "cb42ede6-183e-4890-9be6-005278ac8356",
        "colab": {
          "base_uri": "https://localhost:8080/",
          "height": 0
        }
      },
      "source": [
        "k_values[ktopics_means.index(max(ktopics_means))]"
      ],
      "execution_count": 17,
      "outputs": [
        {
          "output_type": "execute_result",
          "data": {
            "text/plain": [
              "30"
            ]
          },
          "metadata": {
            "tags": []
          },
          "execution_count": 17
        }
      ]
    },
    {
      "cell_type": "code",
      "metadata": {
        "id": "pP6o8eqgwHyA",
        "colab_type": "code",
        "outputId": "423b8351-f7fa-42b5-d5d2-8172d6bd0d7a",
        "colab": {
          "base_uri": "https://localhost:8080/",
          "height": 0
        }
      },
      "source": [
        "%%time\n",
        "k = 30\n",
        "summaries_LSA = [LSAsummarize(k,doc) for doc in documents]\n",
        "summary_scores_LSA = np.array([summary_score(summaries_LSA[i],documents[i]) for i in range(len(documents))], dtype = \"float\")"
      ],
      "execution_count": 18,
      "outputs": [
        {
          "output_type": "stream",
          "text": [
            "CPU times: user 3min 3s, sys: 2min 5s, total: 5min 9s\n",
            "Wall time: 2min 40s\n"
          ],
          "name": "stdout"
        }
      ]
    },
    {
      "cell_type": "code",
      "metadata": {
        "id": "VYy2WKWSlvj-",
        "colab_type": "code",
        "outputId": "ada4f797-b839-4942-c5cd-716dc0cf8bcc",
        "colab": {
          "base_uri": "https://localhost:8080/",
          "height": 0
        }
      },
      "source": [
        "plt.scatter(list(map(len,documents)),summary_scores_LSA)"
      ],
      "execution_count": 19,
      "outputs": [
        {
          "output_type": "execute_result",
          "data": {
            "text/plain": [
              "<matplotlib.collections.PathCollection at 0x7f132d187240>"
            ]
          },
          "metadata": {
            "tags": []
          },
          "execution_count": 19
        },
        {
          "output_type": "display_data",
          "data": {
            "image/png": "[encoded data removed]",
            "text/plain": [
              "<Figure size 576x396 with 1 Axes>"
            ]
          },
          "metadata": {
            "tags": []
          }
        }
      ]
    },
    {
      "cell_type": "markdown",
      "metadata": {
        "id": "Ym-6vKNQGxaq",
        "colab_type": "text"
      },
      "source": [
        "### Obtaining Result"
      ]
    },
    {
      "cell_type": "code",
      "metadata": {
        "id": "FUHi0LFFxT-H",
        "colab_type": "code",
        "outputId": "4e770955-38c9-44e5-d809-f092fcb9f0a3",
        "colab": {
          "base_uri": "https://localhost:8080/",
          "height": 0
        }
      },
      "source": [
        "print(\"Average Score using LSA:\", summary_scores_LSA.mean())"
      ],
      "execution_count": 20,
      "outputs": [
        {
          "output_type": "stream",
          "text": [
            "Average Score using LSA: 0.24804959570504517\n"
          ],
          "name": "stdout"
        }
      ]
    },
    {
      "cell_type": "markdown",
      "metadata": {
        "id": "ioUQVTAdBrdq",
        "colab_type": "text"
      },
      "source": [
        "## Final Scores"
      ]
    },
    {
      "cell_type": "code",
      "metadata": {
        "id": "2fnk8s_SF_hU",
        "colab_type": "code",
        "colab": {}
      },
      "source": [
        "df1 = pd.DataFrame()\n",
        "df1[\"Document\"] = documents\n",
        "df1[\"TFIDF Average\"] = summary_scores_tfidf_avg\n",
        "df1[\"TFIDF K Proportion\"] = summary_scores_tfidf_kprop\n",
        "df1[\"TFIDF K Sentences\"] = summary_scores_tfidf_ksent\n",
        "df1[\"LSA\"] = summary_scores_LSA"
      ],
      "execution_count": 0,
      "outputs": []
    },
    {
      "cell_type": "code",
      "metadata": {
        "id": "UF42gb-1CByL",
        "colab_type": "code",
        "colab": {
          "base_uri": "https://localhost:8080/",
          "height": 195
        },
        "outputId": "025860f6-ed31-4115-e8e5-3e56219c7333"
      },
      "source": [
        "df1.head()"
      ],
      "execution_count": 24,
      "outputs": [
        {
          "output_type": "execute_result",
          "data": {
            "text/html": [
              "<div>\n",
              "<style scoped>\n",
              "    .dataframe tbody tr th:only-of-type {\n",
              "        vertical-align: middle;\n",
              "    }\n",
              "\n",
              "    .dataframe tbody tr th {\n",
              "        vertical-align: top;\n",
              "    }\n",
              "\n",
              "    .dataframe thead th {\n",
              "        text-align: right;\n",
              "    }\n",
              "</style>\n",
              "<table border=\"1\" class=\"dataframe\">\n",
              "  <thead>\n",
              "    <tr style=\"text-align: right;\">\n",
              "      <th></th>\n",
              "      <th>Document</th>\n",
              "      <th>TFIDF Average</th>\n",
              "      <th>TFIDF K Proportion</th>\n",
              "      <th>TFIDF K Sentences</th>\n",
              "      <th>LSA</th>\n",
              "    </tr>\n",
              "  </thead>\n",
              "  <tbody>\n",
              "    <tr>\n",
              "      <th>0</th>\n",
              "      <td>Axa Sun Life cuts bonus payments\\n\\nLife insur...</td>\n",
              "      <td>0.330579</td>\n",
              "      <td>0.347107</td>\n",
              "      <td>0.330579</td>\n",
              "      <td>0.223140</td>\n",
              "    </tr>\n",
              "    <tr>\n",
              "      <th>1</th>\n",
              "      <td>Scrum-half Williams rejoins Bath\\n\\nBath have ...</td>\n",
              "      <td>0.235385</td>\n",
              "      <td>0.249231</td>\n",
              "      <td>0.258462</td>\n",
              "      <td>0.238462</td>\n",
              "    </tr>\n",
              "    <tr>\n",
              "      <th>2</th>\n",
              "      <td>Broadband takes on TV viewing\\n\\nThe number of...</td>\n",
              "      <td>0.354364</td>\n",
              "      <td>0.351044</td>\n",
              "      <td>0.333966</td>\n",
              "      <td>0.273245</td>\n",
              "    </tr>\n",
              "    <tr>\n",
              "      <th>3</th>\n",
              "      <td>French wine gets 70m euro top-up\\n\\nThe French...</td>\n",
              "      <td>0.275591</td>\n",
              "      <td>0.314961</td>\n",
              "      <td>0.288714</td>\n",
              "      <td>0.266842</td>\n",
              "    </tr>\n",
              "    <tr>\n",
              "      <th>4</th>\n",
              "      <td>Markets fall on weak dollar fears\\n\\nRising oi...</td>\n",
              "      <td>0.302409</td>\n",
              "      <td>0.313210</td>\n",
              "      <td>0.291886</td>\n",
              "      <td>0.202714</td>\n",
              "    </tr>\n",
              "  </tbody>\n",
              "</table>\n",
              "</div>"
            ],
            "text/plain": [
              "                                            Document  ...       LSA\n",
              "0  Axa Sun Life cuts bonus payments\\n\\nLife insur...  ...  0.223140\n",
              "1  Scrum-half Williams rejoins Bath\\n\\nBath have ...  ...  0.238462\n",
              "2  Broadband takes on TV viewing\\n\\nThe number of...  ...  0.273245\n",
              "3  French wine gets 70m euro top-up\\n\\nThe French...  ...  0.266842\n",
              "4  Markets fall on weak dollar fears\\n\\nRising oi...  ...  0.202714\n",
              "\n",
              "[5 rows x 5 columns]"
            ]
          },
          "metadata": {
            "tags": []
          },
          "execution_count": 24
        }
      ]
    },
    {
      "cell_type": "code",
      "metadata": {
        "id": "S3iTT_8SCDaY",
        "colab_type": "code",
        "colab": {}
      },
      "source": [
        "df2 = pd.DataFrame()\n",
        "df2[\"TFIDF Average\"] = [summary_scores_tfidf_avg.mean()]\n",
        "df2[\"TFIDF K Proportion\"] = [summary_scores_tfidf_kprop.mean()]\n",
        "df2[\"TFIDF K Sentences\"] = [summary_scores_tfidf_ksent.mean()]\n",
        "df2[\"LSA\"] = [summary_scores_LSA.mean()]"
      ],
      "execution_count": 0,
      "outputs": []
    },
    {
      "cell_type": "code",
      "metadata": {
        "id": "xszzHIKbCbx7",
        "colab_type": "code",
        "colab": {
          "base_uri": "https://localhost:8080/",
          "height": 77
        },
        "outputId": "fa18b7a4-68b4-4d6f-99eb-631440c98df6"
      },
      "source": [
        "df2"
      ],
      "execution_count": 29,
      "outputs": [
        {
          "output_type": "execute_result",
          "data": {
            "text/html": [
              "<div>\n",
              "<style scoped>\n",
              "    .dataframe tbody tr th:only-of-type {\n",
              "        vertical-align: middle;\n",
              "    }\n",
              "\n",
              "    .dataframe tbody tr th {\n",
              "        vertical-align: top;\n",
              "    }\n",
              "\n",
              "    .dataframe thead th {\n",
              "        text-align: right;\n",
              "    }\n",
              "</style>\n",
              "<table border=\"1\" class=\"dataframe\">\n",
              "  <thead>\n",
              "    <tr style=\"text-align: right;\">\n",
              "      <th></th>\n",
              "      <th>TFIDF Average</th>\n",
              "      <th>TFIDF K Proportion</th>\n",
              "      <th>TFIDF K Sentences</th>\n",
              "      <th>LSA</th>\n",
              "    </tr>\n",
              "  </thead>\n",
              "  <tbody>\n",
              "    <tr>\n",
              "      <th>0</th>\n",
              "      <td>0.311614</td>\n",
              "      <td>0.323508</td>\n",
              "      <td>0.285659</td>\n",
              "      <td>0.24805</td>\n",
              "    </tr>\n",
              "  </tbody>\n",
              "</table>\n",
              "</div>"
            ],
            "text/plain": [
              "   TFIDF Average  TFIDF K Proportion  TFIDF K Sentences      LSA\n",
              "0       0.311614            0.323508           0.285659  0.24805"
            ]
          },
          "metadata": {
            "tags": []
          },
          "execution_count": 29
        }
      ]
    },
    {
      "cell_type": "code",
      "metadata": {
        "id": "PwA648kWCgqY",
        "colab_type": "code",
        "colab": {}
      },
      "source": [
        ""
      ],
      "execution_count": 0,
      "outputs": []
    }
  ]
}